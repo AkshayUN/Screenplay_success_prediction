{
  "nbformat": 4,
  "nbformat_minor": 0,
  "metadata": {
    "colab": {
      "provenance": [],
      "gpuType": "T4"
    },
    "kernelspec": {
      "name": "python3",
      "display_name": "Python 3"
    },
    "language_info": {
      "name": "python"
    },
    "accelerator": "GPU"
  },
  "cells": [
    {
      "cell_type": "markdown",
      "source": [
        "*Importing* liberaries"
      ],
      "metadata": {
        "id": "UnMoY8Ngvq3e"
      }
    },
    {
      "cell_type": "code",
      "execution_count": 29,
      "metadata": {
        "id": "rPsFPn84vm_2"
      },
      "outputs": [],
      "source": [
        "import torch\n",
        "from torch import nn\n",
        "from torch.optim import Adam\n",
        "from sklearn.model_selection import train_test_split\n",
        "from sklearn.preprocessing import StandardScaler, MultiLabelBinarizer\n",
        "import pandas as pd\n",
        "from scipy.sparse import hstack\n",
        "import gensim.downloader as api\n",
        "import numpy as np"
      ]
    },
    {
      "cell_type": "markdown",
      "source": [
        "Loading pre trained word2vec"
      ],
      "metadata": {
        "id": "z5rg7Tkkv0XT"
      }
    },
    {
      "cell_type": "code",
      "source": [
        "import os\n",
        "import gensim.downloader as api\n",
        "\n",
        "model_name = 'word2vec-google-news-300'\n",
        "\n",
        "# Check if the model is already downloaded\n",
        "try:\n",
        "    word2vec_model = api.load(model_name)\n",
        "    print(\"Loaded the existing model.\")\n",
        "except KeyError:\n",
        "    # If model is not found, it will download\n",
        "    word2vec_model = api.load(model_name)\n",
        "    print(\"Model was not found locally. Downloading now.\")\n"
      ],
      "metadata": {
        "colab": {
          "base_uri": "https://localhost:8080/"
        },
        "id": "9LYRUjbIv048",
        "outputId": "b764320b-a3c4-49bb-e060-9e80ed5a2379"
      },
      "execution_count": 30,
      "outputs": [
        {
          "output_type": "stream",
          "name": "stdout",
          "text": [
            "Loaded the existing model.\n"
          ]
        }
      ]
    },
    {
      "cell_type": "markdown",
      "source": [
        "*Preprocessing* data"
      ],
      "metadata": {
        "id": "hryVZEVUv5RS"
      }
    },
    {
      "cell_type": "code",
      "source": [
        "# Load the dataset and skip any bad lines\n",
        "movie_data = pd.read_csv('movie_meta_data.csv', on_bad_lines='skip')\n",
        "\n",
        "# Fill missing values for text columns with empty strings and for numerical columns with the median\n",
        "movie_data['plot'] = movie_data['plot'].fillna('')\n",
        "movie_data['keywords'] = movie_data['keywords'].fillna('')\n",
        "movie_data['genres'] = movie_data['genres'].fillna('')\n",
        "movie_data['producers'] = movie_data['producers'].fillna('')\n",
        "movie_data['directors'] = movie_data['directors'].fillna('')\n",
        "movie_data['casting directors'] = movie_data['casting directors'].fillna('')\n",
        "movie_data['taglines'] = movie_data['taglines'].fillna('')\n",
        "movie_data['countries'] = movie_data['countries'].fillna('')\n",
        "movie_data['year'] = movie_data['year'].fillna(movie_data['year'].median())"
      ],
      "metadata": {
        "id": "cpWhwRqWv9GS"
      },
      "execution_count": 31,
      "outputs": []
    },
    {
      "cell_type": "markdown",
      "source": [
        "Exploratory Data Analytics"
      ],
      "metadata": {
        "id": "ONT9YbKV0qsQ"
      }
    },
    {
      "cell_type": "code",
      "source": [
        "import matplotlib.pyplot as plt\n",
        "import seaborn as sns\n",
        "import numpy as np\n",
        "\n",
        "# 1. Basic statistics for numerical features\n",
        "numerical_columns = ['year', 'metascore', 'imdb user rating', 'number of imdb user votes']\n",
        "summary_stats = movie_data[numerical_columns].describe()\n",
        "print(summary_stats)"
      ],
      "metadata": {
        "colab": {
          "base_uri": "https://localhost:8080/"
        },
        "id": "cHQP6mNH0pqy",
        "outputId": "f7c0230b-b35a-4d70-b727-b86600eea1aa"
      },
      "execution_count": 32,
      "outputs": [
        {
          "output_type": "stream",
          "name": "stdout",
          "text": [
            "              year    metascore  imdb user rating  number of imdb user votes\n",
            "count  2858.000000  2858.000000       2858.000000               2.858000e+03\n",
            "mean   1986.665150    44.815605          5.856543               1.392193e+05\n",
            "std     154.879642    32.738149          2.190857               2.283760e+05\n",
            "min      -1.000000    -1.000000         -1.000000              -1.000000e+00\n",
            "25%    1992.000000    -1.000000          6.000000               7.400000e+03\n",
            "50%    2003.000000    54.000000          6.000000               5.436900e+04\n",
            "75%    2011.000000    71.000000          7.000000               1.689790e+05\n",
            "max    2021.000000   100.000000          9.000000               2.312225e+06\n"
          ]
        }
      ]
    },
    {
      "cell_type": "markdown",
      "source": [
        "Correlation heatmap\n"
      ],
      "metadata": {
        "id": "iRdUhaI304bQ"
      }
    },
    {
      "cell_type": "code",
      "source": [
        "correlation_matrix = movie_data[numerical_columns].corr()\n",
        "plt.figure(figsize=(8, 6))\n",
        "sns.heatmap(correlation_matrix, annot=True, cmap='coolwarm', fmt='.2f', cbar=True)\n",
        "plt.title('Correlation Heatmap')\n",
        "plt.show()"
      ],
      "metadata": {
        "colab": {
          "base_uri": "https://localhost:8080/",
          "height": 719
        },
        "id": "tE3vdT5f0yQ5",
        "outputId": "064d428f-79b9-48a2-a25b-fdd1009756e6"
      },
      "execution_count": 33,
      "outputs": [
        {
          "output_type": "display_data",
          "data": {
            "text/plain": [
              "<Figure size 800x600 with 2 Axes>"
            ],
            "image/png": "[encoded data removed]"
          },
          "metadata": {}
        }
      ]
    },
    {
      "cell_type": "markdown",
      "source": [
        "Distribution of genres (this is a sample for categorical columns)\n"
      ],
      "metadata": {
        "id": "aTYxFrit1HVh"
      }
    },
    {
      "cell_type": "code",
      "source": [
        "# Let's plot the top 10 most common genres\n",
        "top_genres = movie_data['genres'].str.split(',', expand=True).stack().value_counts().head(10)\n",
        "plt.figure(figsize=(10, 6))\n",
        "top_genres.plot(kind='bar', color='lightcoral')\n",
        "plt.title('Top 10 Most Common Genres')\n",
        "plt.xlabel('Genre')\n",
        "plt.ylabel('Frequency')\n",
        "plt.xticks(rotation=45)\n",
        "plt.show()"
      ],
      "metadata": {
        "colab": {
          "base_uri": "https://localhost:8080/",
          "height": 614
        },
        "id": "akfsYsoo1ED6",
        "outputId": "8767f3e4-61bd-4758-ab1d-5e612eaf7c79"
      },
      "execution_count": 34,
      "outputs": [
        {
          "output_type": "display_data",
          "data": {
            "text/plain": [
              "<Figure size 1000x600 with 1 Axes>"
            ],
            "image/png": "[encoded data removed]"
          },
          "metadata": {}
        }
      ]
    },
    {
      "cell_type": "markdown",
      "source": [
        "Using linear regression as a base model"
      ],
      "metadata": {
        "id": "unAL87r54T4J"
      }
    },
    {
      "cell_type": "code",
      "source": [
        "from sklearn.model_selection import train_test_split\n",
        "from sklearn.feature_extraction.text import TfidfVectorizer\n",
        "from sklearn.preprocessing import LabelEncoder\n",
        "from sklearn.metrics import mean_squared_error\n",
        "file_path = 'movie_meta_data.csv'\n",
        "movie_data_lr = pd.read_csv(file_path)\n",
        "\n",
        "movie_data_lr = movie_data_lr.dropna(subset=['plot', 'genres', 'directors', 'casting directors', 'keywords', 'imdb user rating'])"
      ],
      "metadata": {
        "id": "DBG1uURL42jB"
      },
      "execution_count": 53,
      "outputs": []
    },
    {
      "cell_type": "code",
      "source": [
        "\n",
        "X = movie_data_lr[['plot', 'genres', 'directors', 'casting directors', 'keywords']]\n",
        "y = movie_data_lr['imdb user rating']\n",
        "\n",
        "tfidf_vectorizer = TfidfVectorizer(stop_words='english', max_features=500)\n",
        "X_plot = tfidf_vectorizer.fit_transform(X['plot']).toarray()\n",
        "X_keywords = tfidf_vectorizer.fit_transform(X['keywords']).toarray()\n",
        "\n",
        "label_encoder = LabelEncoder()\n",
        "\n",
        "X_genre = X['genres'].str.split(',').apply(lambda x: ', '.join(x)).values\n",
        "X_genre_encoded = label_encoder.fit_transform(X_genre)\n",
        "\n",
        "X_directors = label_encoder.fit_transform(X['directors'])\n",
        "X_casting_directors = label_encoder.fit_transform(X['casting directors'])\n",
        "\n",
        "X_combined = np.hstack([X_plot, X_keywords, X_genre_encoded.reshape(-1, 1), X_directors.reshape(-1, 1), X_casting_directors.reshape(-1, 1)])\n",
        "\n",
        "X_train, X_temp, y_train, y_temp = train_test_split(X_combined, y, test_size=0.4, random_state=42)\n",
        "X_val, X_test, y_val, y_test = train_test_split(X_temp, y_temp, test_size=0.5, random_state=42)\n",
        "\n",
        "X_train_tensor = torch.tensor(X_train, dtype=torch.float32)\n",
        "X_val_tensor = torch.tensor(X_val, dtype=torch.float32)\n",
        "X_test_tensor = torch.tensor(X_test, dtype=torch.float32)\n",
        "y_train_tensor = torch.tensor(y_train.values, dtype=torch.float32).view(-1, 1)\n",
        "y_val_tensor = torch.tensor(y_val.values, dtype=torch.float32).view(-1, 1)\n",
        "y_test_tensor = torch.tensor(y_test.values, dtype=torch.float32).view(-1, 1)\n"
      ],
      "metadata": {
        "id": "48FJ73dm44Dp"
      },
      "execution_count": 54,
      "outputs": []
    },
    {
      "cell_type": "code",
      "source": [
        "model = torch.nn.Linear(X_train.shape[1], 1)\n",
        "\n",
        "criterion = torch.nn.MSELoss()\n",
        "optimizer = torch.optim.Adam(model.parameters(), lr=0.001)\n",
        "\n",
        "num_epochs = 300\n",
        "train_losses = []\n",
        "val_losses = []\n",
        "train_mer = []\n",
        "val_mer = []\n",
        "\n",
        "for epoch in range(num_epochs):\n",
        "    model.train()\n",
        "    optimizer.zero_grad()\n",
        "    y_train_pred = model(X_train_tensor)\n",
        "    train_loss = criterion(y_train_pred, y_train_tensor)\n",
        "    train_loss.backward()\n",
        "    optimizer.step()\n",
        "\n",
        "    train_abs_error = torch.abs(y_train_pred - y_train_tensor)\n",
        "    train_med_er = torch.median(train_abs_error)\n",
        "\n",
        "    model.eval()\n",
        "    with torch.no_grad():\n",
        "        y_val_pred = model(X_val_tensor)\n",
        "        val_loss = criterion(y_val_pred, y_val_tensor)\n",
        "\n",
        "        val_abs_error = torch.abs(y_val_pred - y_val_tensor)\n",
        "        val_med_er = torch.median(val_abs_error)\n",
        "\n",
        "    train_losses.append(train_loss.item())\n",
        "    val_losses.append(val_loss.item())\n",
        "    train_mer.append(train_med_er.item())\n",
        "    val_mer.append(val_med_er.item())\n",
        "\n",
        "    print(f\"Epoch [{epoch+1}/{num_epochs}], Train Loss: {train_loss.item():.4f}, Train MedER: {train_med_er.item():.4f}, \"\n",
        "          f\"Validation Loss: {val_loss.item():.4f}, Validation MedER: {val_med_er.item():.4f}\")"
      ],
      "metadata": {
        "colab": {
          "base_uri": "https://localhost:8080/"
        },
        "id": "W3hkEBEf5Ir6",
        "outputId": "7dc7dd1e-6b80-4c1f-df07-3f3381bce8c6"
      },
      "execution_count": 55,
      "outputs": [
        {
          "output_type": "stream",
          "name": "stdout",
          "text": [
            "Epoch [1/300], Train Loss: 1572.8600, Train MedER: 38.1864, Validation Loss: 1423.0009, Validation MedER: 36.0977\n",
            "Epoch [2/300], Train Loss: 1460.0767, Train MedER: 36.8452, Validation Loss: 1317.3538, Validation MedER: 34.7466\n",
            "Epoch [3/300], Train Loss: 1351.6420, Train MedER: 35.4402, Validation Loss: 1216.0125, Validation MedER: 33.3298\n",
            "Epoch [4/300], Train Loss: 1247.6263, Train MedER: 34.1067, Validation Loss: 1119.0365, Validation MedER: 32.0536\n",
            "Epoch [5/300], Train Loss: 1148.0907, Train MedER: 32.7256, Validation Loss: 1026.4753, Validation MedER: 30.7053\n",
            "Epoch [6/300], Train Loss: 1053.0858, Train MedER: 31.3147, Validation Loss: 938.3674, Validation MedER: 29.1821\n",
            "Epoch [7/300], Train Loss: 962.6509, Train MedER: 29.8950, Validation Loss: 854.7396, Validation MedER: 27.8059\n",
            "Epoch [8/300], Train Loss: 876.8138, Train MedER: 28.6314, Validation Loss: 775.6062, Validation MedER: 26.3037\n",
            "Epoch [9/300], Train Loss: 795.5892, Train MedER: 27.2304, Validation Loss: 700.9685, Validation MedER: 25.0101\n",
            "Epoch [10/300], Train Loss: 718.9783, Train MedER: 25.8466, Validation Loss: 630.8138, Validation MedER: 23.8752\n",
            "Epoch [11/300], Train Loss: 646.9681, Train MedER: 24.4420, Validation Loss: 565.1146, Validation MedER: 22.6790\n",
            "Epoch [12/300], Train Loss: 579.5305, Train MedER: 23.0738, Validation Loss: 503.8286, Validation MedER: 21.4188\n",
            "Epoch [13/300], Train Loss: 516.6220, Train MedER: 21.7980, Validation Loss: 446.8983, Validation MedER: 20.2309\n",
            "Epoch [14/300], Train Loss: 458.1837, Train MedER: 20.4450, Validation Loss: 394.2501, Validation MedER: 18.9791\n",
            "Epoch [15/300], Train Loss: 404.1403, Train MedER: 19.2263, Validation Loss: 345.7950, Validation MedER: 17.8306\n",
            "Epoch [16/300], Train Loss: 354.4003, Train MedER: 17.9616, Validation Loss: 301.4284, Validation MedER: 16.6728\n",
            "Epoch [17/300], Train Loss: 308.8564, Train MedER: 16.7413, Validation Loss: 261.0298, Validation MedER: 15.5004\n",
            "Epoch [18/300], Train Loss: 267.3853, Train MedER: 15.5433, Validation Loss: 224.4644, Validation MedER: 14.3787\n",
            "Epoch [19/300], Train Loss: 229.8483, Train MedER: 14.3898, Validation Loss: 191.5826, Validation MedER: 13.2508\n",
            "Epoch [20/300], Train Loss: 196.0923, Train MedER: 13.2189, Validation Loss: 162.2216, Validation MedER: 12.2601\n",
            "Epoch [21/300], Train Loss: 165.9503, Train MedER: 12.0948, Validation Loss: 136.2065, Validation MedER: 11.2646\n",
            "Epoch [22/300], Train Loss: 139.2428, Train MedER: 11.0441, Validation Loss: 113.3512, Validation MedER: 10.2041\n",
            "Epoch [23/300], Train Loss: 115.7790, Train MedER: 10.0232, Validation Loss: 93.4604, Validation MedER: 9.2656\n",
            "Epoch [24/300], Train Loss: 95.3585, Train MedER: 9.0511, Validation Loss: 76.3310, Validation MedER: 8.3864\n",
            "Epoch [25/300], Train Loss: 77.7730, Train MedER: 8.1301, Validation Loss: 61.7541, Validation MedER: 7.3082\n",
            "Epoch [26/300], Train Loss: 62.8084, Train MedER: 7.2209, Validation Loss: 49.5173, Validation MedER: 6.4677\n",
            "Epoch [27/300], Train Loss: 50.2465, Train MedER: 6.3786, Validation Loss: 39.4063, Validation MedER: 5.5060\n",
            "Epoch [28/300], Train Loss: 39.8676, Train MedER: 5.5387, Validation Loss: 31.2075, Validation MedER: 4.8097\n",
            "Epoch [29/300], Train Loss: 31.4527, Train MedER: 4.7190, Validation Loss: 24.7102, Validation MedER: 4.1111\n",
            "Epoch [30/300], Train Loss: 24.7853, Train MedER: 3.9093, Validation Loss: 19.7083, Validation MedER: 3.5668\n",
            "Epoch [31/300], Train Loss: 19.6542, Train MedER: 3.2824, Validation Loss: 16.0028, Validation MedER: 3.1626\n",
            "Epoch [32/300], Train Loss: 15.8552, Train MedER: 2.8968, Validation Loss: 13.4037, Validation MedER: 2.8289\n",
            "Epoch [33/300], Train Loss: 13.1931, Train MedER: 2.5875, Validation Loss: 11.7314, Validation MedER: 2.5914\n",
            "Epoch [34/300], Train Loss: 11.4838, Train MedER: 2.3642, Validation Loss: 10.8183, Validation MedER: 2.5284\n",
            "Epoch [35/300], Train Loss: 10.5551, Train MedER: 2.2513, Validation Loss: 10.5101, Validation MedER: 2.3432\n",
            "Epoch [36/300], Train Loss: 10.2487, Train MedER: 2.2479, Validation Loss: 10.6666, Validation MedER: 2.2638\n",
            "Epoch [37/300], Train Loss: 10.4206, Train MedER: 2.2520, Validation Loss: 11.1626, Validation MedER: 2.2294\n",
            "Epoch [38/300], Train Loss: 10.9422, Train MedER: 2.3213, Validation Loss: 11.8878, Validation MedER: 2.2901\n",
            "Epoch [39/300], Train Loss: 11.7001, Train MedER: 2.3796, Validation Loss: 12.7469, Validation MedER: 2.3024\n",
            "Epoch [40/300], Train Loss: 12.5966, Train MedER: 2.4721, Validation Loss: 13.6597, Validation MedER: 2.3039\n",
            "Epoch [41/300], Train Loss: 13.5491, Train MedER: 2.5442, Validation Loss: 14.5602, Validation MedER: 2.4216\n",
            "Epoch [42/300], Train Loss: 14.4897, Train MedER: 2.6529, Validation Loss: 15.3959, Validation MedER: 2.3739\n",
            "Epoch [43/300], Train Loss: 15.3644, Train MedER: 2.7306, Validation Loss: 16.1270, Validation MedER: 2.4366\n",
            "Epoch [44/300], Train Loss: 16.1322, Train MedER: 2.7704, Validation Loss: 16.7253, Validation MedER: 2.4210\n",
            "Epoch [45/300], Train Loss: 16.7639, Train MedER: 2.7877, Validation Loss: 17.1728, Validation MedER: 2.4946\n",
            "Epoch [46/300], Train Loss: 17.2410, Train MedER: 2.8340, Validation Loss: 17.4607, Validation MedER: 2.5376\n",
            "Epoch [47/300], Train Loss: 17.5541, Train MedER: 2.8565, Validation Loss: 17.5876, Validation MedER: 2.5536\n",
            "Epoch [48/300], Train Loss: 17.7020, Train MedER: 2.8518, Validation Loss: 17.5591, Validation MedER: 2.5240\n",
            "Epoch [49/300], Train Loss: 17.6899, Train MedER: 2.8491, Validation Loss: 17.3853, Validation MedER: 2.5011\n",
            "Epoch [50/300], Train Loss: 17.5283, Train MedER: 2.8442, Validation Loss: 17.0807, Validation MedER: 2.4953\n",
            "Epoch [51/300], Train Loss: 17.2318, Train MedER: 2.8207, Validation Loss: 16.6624, Validation MedER: 2.4849\n",
            "Epoch [52/300], Train Loss: 16.8179, Train MedER: 2.7928, Validation Loss: 16.1493, Validation MedER: 2.4533\n",
            "Epoch [53/300], Train Loss: 16.3059, Train MedER: 2.7923, Validation Loss: 15.5611, Validation MedER: 2.4080\n",
            "Epoch [54/300], Train Loss: 15.7159, Train MedER: 2.7274, Validation Loss: 14.9175, Validation MedER: 2.4147\n",
            "Epoch [55/300], Train Loss: 15.0682, Train MedER: 2.6578, Validation Loss: 14.2375, Validation MedER: 2.3692\n",
            "Epoch [56/300], Train Loss: 14.3823, Train MedER: 2.5893, Validation Loss: 13.5393, Validation MedER: 2.2745\n",
            "Epoch [57/300], Train Loss: 13.6765, Train MedER: 2.5002, Validation Loss: 12.8388, Validation MedER: 2.2138\n",
            "Epoch [58/300], Train Loss: 12.9676, Train MedER: 2.4560, Validation Loss: 12.1507, Validation MedER: 2.1194\n",
            "Epoch [59/300], Train Loss: 12.2703, Train MedER: 2.3926, Validation Loss: 11.4870, Validation MedER: 2.1011\n",
            "Epoch [60/300], Train Loss: 11.5971, Train MedER: 2.3350, Validation Loss: 10.8577, Validation MedER: 2.0932\n",
            "Epoch [61/300], Train Loss: 10.9584, Train MedER: 2.2734, Validation Loss: 10.2707, Validation MedER: 2.0170\n",
            "Epoch [62/300], Train Loss: 10.3621, Train MedER: 2.2002, Validation Loss: 9.7314, Validation MedER: 2.0139\n",
            "Epoch [63/300], Train Loss: 9.8141, Train MedER: 2.1467, Validation Loss: 9.2435, Validation MedER: 1.9419\n",
            "Epoch [64/300], Train Loss: 9.3180, Train MedER: 2.0499, Validation Loss: 8.8085, Validation MedER: 1.9636\n",
            "Epoch [65/300], Train Loss: 8.8755, Train MedER: 2.0253, Validation Loss: 8.4264, Validation MedER: 1.9515\n",
            "Epoch [66/300], Train Loss: 8.4867, Train MedER: 2.0161, Validation Loss: 8.0957, Validation MedER: 1.9482\n",
            "Epoch [67/300], Train Loss: 8.1502, Train MedER: 1.9683, Validation Loss: 7.8138, Validation MedER: 1.9268\n",
            "Epoch [68/300], Train Loss: 7.8633, Train MedER: 1.9014, Validation Loss: 7.5771, Validation MedER: 1.9391\n",
            "Epoch [69/300], Train Loss: 7.6224, Train MedER: 1.9024, Validation Loss: 7.3812, Validation MedER: 1.9419\n",
            "Epoch [70/300], Train Loss: 7.4232, Train MedER: 1.8926, Validation Loss: 7.2214, Validation MedER: 1.9411\n",
            "Epoch [71/300], Train Loss: 7.2609, Train MedER: 1.8393, Validation Loss: 7.0927, Validation MedER: 1.9682\n",
            "Epoch [72/300], Train Loss: 7.1304, Train MedER: 1.8490, Validation Loss: 6.9900, Validation MedER: 2.0129\n",
            "Epoch [73/300], Train Loss: 7.0266, Train MedER: 1.8392, Validation Loss: 6.9085, Validation MedER: 2.0642\n",
            "Epoch [74/300], Train Loss: 6.9446, Train MedER: 1.8400, Validation Loss: 6.8433, Validation MedER: 2.0659\n",
            "Epoch [75/300], Train Loss: 6.8795, Train MedER: 1.8223, Validation Loss: 6.7903, Validation MedER: 2.0618\n",
            "Epoch [76/300], Train Loss: 6.8271, Train MedER: 1.8392, Validation Loss: 6.7455, Validation MedER: 2.0881\n",
            "Epoch [77/300], Train Loss: 6.7833, Train MedER: 1.8249, Validation Loss: 6.7056, Validation MedER: 2.0573\n",
            "Epoch [78/300], Train Loss: 6.7448, Train MedER: 1.8359, Validation Loss: 6.6676, Validation MedER: 2.0737\n",
            "Epoch [79/300], Train Loss: 6.7086, Train MedER: 1.8127, Validation Loss: 6.6294, Validation MedER: 2.0810\n",
            "Epoch [80/300], Train Loss: 6.6726, Train MedER: 1.8094, Validation Loss: 6.5890, Validation MedER: 2.0758\n",
            "Epoch [81/300], Train Loss: 6.6347, Train MedER: 1.8139, Validation Loss: 6.5453, Validation MedER: 2.0737\n",
            "Epoch [82/300], Train Loss: 6.5938, Train MedER: 1.8258, Validation Loss: 6.4973, Validation MedER: 2.0670\n",
            "Epoch [83/300], Train Loss: 6.5489, Train MedER: 1.8208, Validation Loss: 6.4447, Validation MedER: 2.0662\n",
            "Epoch [84/300], Train Loss: 6.4997, Train MedER: 1.8248, Validation Loss: 6.3873, Validation MedER: 2.0440\n",
            "Epoch [85/300], Train Loss: 6.4460, Train MedER: 1.7929, Validation Loss: 6.3253, Validation MedER: 2.0112\n",
            "Epoch [86/300], Train Loss: 6.3880, Train MedER: 1.7836, Validation Loss: 6.2593, Validation MedER: 1.9956\n",
            "Epoch [87/300], Train Loss: 6.3261, Train MedER: 1.7931, Validation Loss: 6.1896, Validation MedER: 1.9728\n",
            "Epoch [88/300], Train Loss: 6.2610, Train MedER: 1.7885, Validation Loss: 6.1172, Validation MedER: 1.9798\n",
            "Epoch [89/300], Train Loss: 6.1934, Train MedER: 1.7785, Validation Loss: 6.0427, Validation MedER: 1.9590\n",
            "Epoch [90/300], Train Loss: 6.1239, Train MedER: 1.7706, Validation Loss: 5.9670, Validation MedER: 1.9339\n",
            "Epoch [91/300], Train Loss: 6.0534, Train MedER: 1.7530, Validation Loss: 5.8908, Validation MedER: 1.9183\n",
            "Epoch [92/300], Train Loss: 5.9827, Train MedER: 1.7326, Validation Loss: 5.8148, Validation MedER: 1.8840\n",
            "Epoch [93/300], Train Loss: 5.9123, Train MedER: 1.7206, Validation Loss: 5.7397, Validation MedER: 1.8823\n",
            "Epoch [94/300], Train Loss: 5.8431, Train MedER: 1.7113, Validation Loss: 5.6660, Validation MedER: 1.8754\n",
            "Epoch [95/300], Train Loss: 5.7755, Train MedER: 1.6935, Validation Loss: 5.5943, Validation MedER: 1.8699\n",
            "Epoch [96/300], Train Loss: 5.7099, Train MedER: 1.6602, Validation Loss: 5.5249, Validation MedER: 1.8647\n",
            "Epoch [97/300], Train Loss: 5.6467, Train MedER: 1.6247, Validation Loss: 5.4580, Validation MedER: 1.8595\n",
            "Epoch [98/300], Train Loss: 5.5861, Train MedER: 1.6234, Validation Loss: 5.3938, Validation MedER: 1.8252\n",
            "Epoch [99/300], Train Loss: 5.5282, Train MedER: 1.6183, Validation Loss: 5.3325, Validation MedER: 1.8195\n",
            "Epoch [100/300], Train Loss: 5.4732, Train MedER: 1.6113, Validation Loss: 5.2740, Validation MedER: 1.8152\n",
            "Epoch [101/300], Train Loss: 5.4209, Train MedER: 1.5949, Validation Loss: 5.2182, Validation MedER: 1.8068\n",
            "Epoch [102/300], Train Loss: 5.3712, Train MedER: 1.5759, Validation Loss: 5.1650, Validation MedER: 1.7961\n",
            "Epoch [103/300], Train Loss: 5.3241, Train MedER: 1.5805, Validation Loss: 5.1144, Validation MedER: 1.7866\n",
            "Epoch [104/300], Train Loss: 5.2794, Train MedER: 1.5801, Validation Loss: 5.0660, Validation MedER: 1.7801\n",
            "Epoch [105/300], Train Loss: 5.2367, Train MedER: 1.5654, Validation Loss: 5.0198, Validation MedER: 1.7631\n",
            "Epoch [106/300], Train Loss: 5.1960, Train MedER: 1.5668, Validation Loss: 4.9755, Validation MedER: 1.7502\n",
            "Epoch [107/300], Train Loss: 5.1570, Train MedER: 1.5608, Validation Loss: 4.9329, Validation MedER: 1.7218\n",
            "Epoch [108/300], Train Loss: 5.1194, Train MedER: 1.5540, Validation Loss: 4.8918, Validation MedER: 1.6965\n",
            "Epoch [109/300], Train Loss: 5.0831, Train MedER: 1.5463, Validation Loss: 4.8521, Validation MedER: 1.6835\n",
            "Epoch [110/300], Train Loss: 5.0479, Train MedER: 1.5530, Validation Loss: 4.8137, Validation MedER: 1.6656\n",
            "Epoch [111/300], Train Loss: 5.0136, Train MedER: 1.5519, Validation Loss: 4.7763, Validation MedER: 1.6457\n",
            "Epoch [112/300], Train Loss: 4.9801, Train MedER: 1.5412, Validation Loss: 4.7399, Validation MedER: 1.6382\n",
            "Epoch [113/300], Train Loss: 4.9473, Train MedER: 1.5353, Validation Loss: 4.7044, Validation MedER: 1.6447\n",
            "Epoch [114/300], Train Loss: 4.9151, Train MedER: 1.5211, Validation Loss: 4.6697, Validation MedER: 1.6329\n",
            "Epoch [115/300], Train Loss: 4.8835, Train MedER: 1.5247, Validation Loss: 4.6358, Validation MedER: 1.6221\n",
            "Epoch [116/300], Train Loss: 4.8523, Train MedER: 1.5152, Validation Loss: 4.6027, Validation MedER: 1.6123\n",
            "Epoch [117/300], Train Loss: 4.8217, Train MedER: 1.5053, Validation Loss: 4.5704, Validation MedER: 1.6032\n",
            "Epoch [118/300], Train Loss: 4.7915, Train MedER: 1.5084, Validation Loss: 4.5388, Validation MedER: 1.5989\n",
            "Epoch [119/300], Train Loss: 4.7618, Train MedER: 1.5046, Validation Loss: 4.5079, Validation MedER: 1.5933\n",
            "Epoch [120/300], Train Loss: 4.7327, Train MedER: 1.4990, Validation Loss: 4.4779, Validation MedER: 1.5864\n",
            "Epoch [121/300], Train Loss: 4.7041, Train MedER: 1.4968, Validation Loss: 4.4485, Validation MedER: 1.5784\n",
            "Epoch [122/300], Train Loss: 4.6760, Train MedER: 1.4940, Validation Loss: 4.4200, Validation MedER: 1.5696\n",
            "Epoch [123/300], Train Loss: 4.6486, Train MedER: 1.4828, Validation Loss: 4.3922, Validation MedER: 1.5642\n",
            "Epoch [124/300], Train Loss: 4.6218, Train MedER: 1.4744, Validation Loss: 4.3652, Validation MedER: 1.5612\n",
            "Epoch [125/300], Train Loss: 4.5956, Train MedER: 1.4732, Validation Loss: 4.3390, Validation MedER: 1.5548\n",
            "Epoch [126/300], Train Loss: 4.5700, Train MedER: 1.4652, Validation Loss: 4.3136, Validation MedER: 1.5505\n",
            "Epoch [127/300], Train Loss: 4.5452, Train MedER: 1.4620, Validation Loss: 4.2889, Validation MedER: 1.5464\n",
            "Epoch [128/300], Train Loss: 4.5210, Train MedER: 1.4613, Validation Loss: 4.2650, Validation MedER: 1.5280\n",
            "Epoch [129/300], Train Loss: 4.4975, Train MedER: 1.4568, Validation Loss: 4.2419, Validation MedER: 1.5291\n",
            "Epoch [130/300], Train Loss: 4.4746, Train MedER: 1.4544, Validation Loss: 4.2194, Validation MedER: 1.5072\n",
            "Epoch [131/300], Train Loss: 4.4525, Train MedER: 1.4470, Validation Loss: 4.1976, Validation MedER: 1.5161\n",
            "Epoch [132/300], Train Loss: 4.4309, Train MedER: 1.4498, Validation Loss: 4.1764, Validation MedER: 1.5214\n",
            "Epoch [133/300], Train Loss: 4.4100, Train MedER: 1.4466, Validation Loss: 4.1559, Validation MedER: 1.5220\n",
            "Epoch [134/300], Train Loss: 4.3897, Train MedER: 1.4344, Validation Loss: 4.1359, Validation MedER: 1.5176\n",
            "Epoch [135/300], Train Loss: 4.3700, Train MedER: 1.4322, Validation Loss: 4.1166, Validation MedER: 1.5131\n",
            "Epoch [136/300], Train Loss: 4.3509, Train MedER: 1.4315, Validation Loss: 4.0977, Validation MedER: 1.5074\n",
            "Epoch [137/300], Train Loss: 4.3323, Train MedER: 1.4347, Validation Loss: 4.0793, Validation MedER: 1.5074\n",
            "Epoch [138/300], Train Loss: 4.3142, Train MedER: 1.4274, Validation Loss: 4.0614, Validation MedER: 1.5070\n",
            "Epoch [139/300], Train Loss: 4.2966, Train MedER: 1.4233, Validation Loss: 4.0440, Validation MedER: 1.5072\n",
            "Epoch [140/300], Train Loss: 4.2795, Train MedER: 1.4211, Validation Loss: 4.0270, Validation MedER: 1.5216\n",
            "Epoch [141/300], Train Loss: 4.2629, Train MedER: 1.4215, Validation Loss: 4.0104, Validation MedER: 1.5138\n",
            "Epoch [142/300], Train Loss: 4.2467, Train MedER: 1.4225, Validation Loss: 3.9942, Validation MedER: 1.5031\n",
            "Epoch [143/300], Train Loss: 4.2310, Train MedER: 1.4215, Validation Loss: 3.9784, Validation MedER: 1.5014\n",
            "Epoch [144/300], Train Loss: 4.2156, Train MedER: 1.4146, Validation Loss: 3.9630, Validation MedER: 1.4911\n",
            "Epoch [145/300], Train Loss: 4.2007, Train MedER: 1.4077, Validation Loss: 3.9479, Validation MedER: 1.4975\n",
            "Epoch [146/300], Train Loss: 4.1861, Train MedER: 1.4082, Validation Loss: 3.9332, Validation MedER: 1.4953\n",
            "Epoch [147/300], Train Loss: 4.1720, Train MedER: 1.4066, Validation Loss: 3.9188, Validation MedER: 1.4778\n",
            "Epoch [148/300], Train Loss: 4.1582, Train MedER: 1.3993, Validation Loss: 3.9048, Validation MedER: 1.4568\n",
            "Epoch [149/300], Train Loss: 4.1448, Train MedER: 1.3943, Validation Loss: 3.8912, Validation MedER: 1.4549\n",
            "Epoch [150/300], Train Loss: 4.1317, Train MedER: 1.3919, Validation Loss: 3.8778, Validation MedER: 1.4448\n",
            "Epoch [151/300], Train Loss: 4.1190, Train MedER: 1.3883, Validation Loss: 3.8649, Validation MedER: 1.4508\n",
            "Epoch [152/300], Train Loss: 4.1067, Train MedER: 1.3801, Validation Loss: 3.8522, Validation MedER: 1.4610\n",
            "Epoch [153/300], Train Loss: 4.0947, Train MedER: 1.3796, Validation Loss: 3.8399, Validation MedER: 1.4520\n",
            "Epoch [154/300], Train Loss: 4.0830, Train MedER: 1.3844, Validation Loss: 3.8280, Validation MedER: 1.4421\n",
            "Epoch [155/300], Train Loss: 4.0716, Train MedER: 1.3862, Validation Loss: 3.8164, Validation MedER: 1.4429\n",
            "Epoch [156/300], Train Loss: 4.0606, Train MedER: 1.3809, Validation Loss: 3.8051, Validation MedER: 1.4343\n",
            "Epoch [157/300], Train Loss: 4.0499, Train MedER: 1.3765, Validation Loss: 3.7941, Validation MedER: 1.4304\n",
            "Epoch [158/300], Train Loss: 4.0394, Train MedER: 1.3793, Validation Loss: 3.7835, Validation MedER: 1.4264\n",
            "Epoch [159/300], Train Loss: 4.0293, Train MedER: 1.3717, Validation Loss: 3.7731, Validation MedER: 1.4200\n",
            "Epoch [160/300], Train Loss: 4.0195, Train MedER: 1.3728, Validation Loss: 3.7631, Validation MedER: 1.4166\n",
            "Epoch [161/300], Train Loss: 4.0099, Train MedER: 1.3709, Validation Loss: 3.7534, Validation MedER: 1.4149\n",
            "Epoch [162/300], Train Loss: 4.0006, Train MedER: 1.3757, Validation Loss: 3.7440, Validation MedER: 1.4125\n",
            "Epoch [163/300], Train Loss: 3.9916, Train MedER: 1.3785, Validation Loss: 3.7349, Validation MedER: 1.4127\n",
            "Epoch [164/300], Train Loss: 3.9828, Train MedER: 1.3807, Validation Loss: 3.7260, Validation MedER: 1.4189\n",
            "Epoch [165/300], Train Loss: 3.9743, Train MedER: 1.3853, Validation Loss: 3.7175, Validation MedER: 1.4244\n",
            "Epoch [166/300], Train Loss: 3.9660, Train MedER: 1.3840, Validation Loss: 3.7092, Validation MedER: 1.4173\n",
            "Epoch [167/300], Train Loss: 3.9580, Train MedER: 1.3792, Validation Loss: 3.7012, Validation MedER: 1.4143\n",
            "Epoch [168/300], Train Loss: 3.9502, Train MedER: 1.3741, Validation Loss: 3.6934, Validation MedER: 1.4194\n",
            "Epoch [169/300], Train Loss: 3.9426, Train MedER: 1.3670, Validation Loss: 3.6859, Validation MedER: 1.4219\n",
            "Epoch [170/300], Train Loss: 3.9352, Train MedER: 1.3646, Validation Loss: 3.6787, Validation MedER: 1.4266\n",
            "Epoch [171/300], Train Loss: 3.9280, Train MedER: 1.3645, Validation Loss: 3.6716, Validation MedER: 1.4266\n",
            "Epoch [172/300], Train Loss: 3.9210, Train MedER: 1.3602, Validation Loss: 3.6648, Validation MedER: 1.4286\n",
            "Epoch [173/300], Train Loss: 3.9142, Train MedER: 1.3508, Validation Loss: 3.6582, Validation MedER: 1.4212\n",
            "Epoch [174/300], Train Loss: 3.9076, Train MedER: 1.3522, Validation Loss: 3.6519, Validation MedER: 1.4111\n",
            "Epoch [175/300], Train Loss: 3.9012, Train MedER: 1.3487, Validation Loss: 3.6457, Validation MedER: 1.3976\n",
            "Epoch [176/300], Train Loss: 3.8949, Train MedER: 1.3443, Validation Loss: 3.6397, Validation MedER: 1.3994\n",
            "Epoch [177/300], Train Loss: 3.8888, Train MedER: 1.3458, Validation Loss: 3.6339, Validation MedER: 1.4009\n",
            "Epoch [178/300], Train Loss: 3.8829, Train MedER: 1.3439, Validation Loss: 3.6283, Validation MedER: 1.3977\n",
            "Epoch [179/300], Train Loss: 3.8772, Train MedER: 1.3405, Validation Loss: 3.6229, Validation MedER: 1.3959\n",
            "Epoch [180/300], Train Loss: 3.8716, Train MedER: 1.3435, Validation Loss: 3.6177, Validation MedER: 1.3952\n",
            "Epoch [181/300], Train Loss: 3.8661, Train MedER: 1.3445, Validation Loss: 3.6126, Validation MedER: 1.3968\n",
            "Epoch [182/300], Train Loss: 3.8608, Train MedER: 1.3440, Validation Loss: 3.6076, Validation MedER: 1.4005\n",
            "Epoch [183/300], Train Loss: 3.8556, Train MedER: 1.3372, Validation Loss: 3.6028, Validation MedER: 1.3907\n",
            "Epoch [184/300], Train Loss: 3.8506, Train MedER: 1.3350, Validation Loss: 3.5981, Validation MedER: 1.3823\n",
            "Epoch [185/300], Train Loss: 3.8457, Train MedER: 1.3322, Validation Loss: 3.5936, Validation MedER: 1.3798\n",
            "Epoch [186/300], Train Loss: 3.8409, Train MedER: 1.3250, Validation Loss: 3.5892, Validation MedER: 1.3869\n",
            "Epoch [187/300], Train Loss: 3.8363, Train MedER: 1.3212, Validation Loss: 3.5850, Validation MedER: 1.3912\n",
            "Epoch [188/300], Train Loss: 3.8318, Train MedER: 1.3152, Validation Loss: 3.5808, Validation MedER: 1.3797\n",
            "Epoch [189/300], Train Loss: 3.8274, Train MedER: 1.3150, Validation Loss: 3.5768, Validation MedER: 1.3764\n",
            "Epoch [190/300], Train Loss: 3.8231, Train MedER: 1.3152, Validation Loss: 3.5728, Validation MedER: 1.3755\n",
            "Epoch [191/300], Train Loss: 3.8189, Train MedER: 1.3101, Validation Loss: 3.5690, Validation MedER: 1.3747\n",
            "Epoch [192/300], Train Loss: 3.8148, Train MedER: 1.3052, Validation Loss: 3.5653, Validation MedER: 1.3738\n",
            "Epoch [193/300], Train Loss: 3.8108, Train MedER: 1.3000, Validation Loss: 3.5617, Validation MedER: 1.3729\n",
            "Epoch [194/300], Train Loss: 3.8069, Train MedER: 1.2981, Validation Loss: 3.5581, Validation MedER: 1.3701\n",
            "Epoch [195/300], Train Loss: 3.8031, Train MedER: 1.2917, Validation Loss: 3.5547, Validation MedER: 1.3712\n",
            "Epoch [196/300], Train Loss: 3.7994, Train MedER: 1.2919, Validation Loss: 3.5513, Validation MedER: 1.3695\n",
            "Epoch [197/300], Train Loss: 3.7958, Train MedER: 1.2926, Validation Loss: 3.5480, Validation MedER: 1.3642\n",
            "Epoch [198/300], Train Loss: 3.7923, Train MedER: 1.2940, Validation Loss: 3.5448, Validation MedER: 1.3589\n",
            "Epoch [199/300], Train Loss: 3.7888, Train MedER: 1.2922, Validation Loss: 3.5417, Validation MedER: 1.3562\n",
            "Epoch [200/300], Train Loss: 3.7854, Train MedER: 1.2892, Validation Loss: 3.5386, Validation MedER: 1.3535\n",
            "Epoch [201/300], Train Loss: 3.7821, Train MedER: 1.2881, Validation Loss: 3.5356, Validation MedER: 1.3509\n",
            "Epoch [202/300], Train Loss: 3.7789, Train MedER: 1.2897, Validation Loss: 3.5327, Validation MedER: 1.3483\n",
            "Epoch [203/300], Train Loss: 3.7757, Train MedER: 1.2880, Validation Loss: 3.5299, Validation MedER: 1.3475\n",
            "Epoch [204/300], Train Loss: 3.7726, Train MedER: 1.2895, Validation Loss: 3.5271, Validation MedER: 1.3509\n",
            "Epoch [205/300], Train Loss: 3.7696, Train MedER: 1.2893, Validation Loss: 3.5244, Validation MedER: 1.3469\n",
            "Epoch [206/300], Train Loss: 3.7666, Train MedER: 1.2891, Validation Loss: 3.5217, Validation MedER: 1.3424\n",
            "Epoch [207/300], Train Loss: 3.7637, Train MedER: 1.2889, Validation Loss: 3.5191, Validation MedER: 1.3380\n",
            "Epoch [208/300], Train Loss: 3.7609, Train MedER: 1.2888, Validation Loss: 3.5166, Validation MedER: 1.3399\n",
            "Epoch [209/300], Train Loss: 3.7581, Train MedER: 1.2872, Validation Loss: 3.5141, Validation MedER: 1.3429\n",
            "Epoch [210/300], Train Loss: 3.7554, Train MedER: 1.2881, Validation Loss: 3.5116, Validation MedER: 1.3360\n",
            "Epoch [211/300], Train Loss: 3.7527, Train MedER: 1.2882, Validation Loss: 3.5093, Validation MedER: 1.3338\n",
            "Epoch [212/300], Train Loss: 3.7500, Train MedER: 1.2880, Validation Loss: 3.5069, Validation MedER: 1.3373\n",
            "Epoch [213/300], Train Loss: 3.7474, Train MedER: 1.2878, Validation Loss: 3.5046, Validation MedER: 1.3406\n",
            "Epoch [214/300], Train Loss: 3.7449, Train MedER: 1.2876, Validation Loss: 3.5024, Validation MedER: 1.3439\n",
            "Epoch [215/300], Train Loss: 3.7424, Train MedER: 1.2874, Validation Loss: 3.5002, Validation MedER: 1.3431\n",
            "Epoch [216/300], Train Loss: 3.7399, Train MedER: 1.2866, Validation Loss: 3.4980, Validation MedER: 1.3393\n",
            "Epoch [217/300], Train Loss: 3.7375, Train MedER: 1.2859, Validation Loss: 3.4959, Validation MedER: 1.3355\n",
            "Epoch [218/300], Train Loss: 3.7351, Train MedER: 1.2852, Validation Loss: 3.4939, Validation MedER: 1.3363\n",
            "Epoch [219/300], Train Loss: 3.7328, Train MedER: 1.2863, Validation Loss: 3.4918, Validation MedER: 1.3376\n",
            "Epoch [220/300], Train Loss: 3.7305, Train MedER: 1.2908, Validation Loss: 3.4898, Validation MedER: 1.3389\n",
            "Epoch [221/300], Train Loss: 3.7282, Train MedER: 1.2934, Validation Loss: 3.4879, Validation MedER: 1.3402\n",
            "Epoch [222/300], Train Loss: 3.7259, Train MedER: 1.2980, Validation Loss: 3.4859, Validation MedER: 1.3415\n",
            "Epoch [223/300], Train Loss: 3.7237, Train MedER: 1.2953, Validation Loss: 3.4840, Validation MedER: 1.3430\n",
            "Epoch [224/300], Train Loss: 3.7216, Train MedER: 1.2973, Validation Loss: 3.4822, Validation MedER: 1.3471\n",
            "Epoch [225/300], Train Loss: 3.7194, Train MedER: 1.2937, Validation Loss: 3.4803, Validation MedER: 1.3464\n",
            "Epoch [226/300], Train Loss: 3.7173, Train MedER: 1.2902, Validation Loss: 3.4785, Validation MedER: 1.3470\n",
            "Epoch [227/300], Train Loss: 3.7152, Train MedER: 1.2872, Validation Loss: 3.4767, Validation MedER: 1.3517\n",
            "Epoch [228/300], Train Loss: 3.7131, Train MedER: 1.2862, Validation Loss: 3.4750, Validation MedER: 1.3562\n",
            "Epoch [229/300], Train Loss: 3.7111, Train MedER: 1.2851, Validation Loss: 3.4733, Validation MedER: 1.3565\n",
            "Epoch [230/300], Train Loss: 3.7090, Train MedER: 1.2824, Validation Loss: 3.4715, Validation MedER: 1.3543\n",
            "Epoch [231/300], Train Loss: 3.7070, Train MedER: 1.2861, Validation Loss: 3.4699, Validation MedER: 1.3531\n",
            "Epoch [232/300], Train Loss: 3.7050, Train MedER: 1.2860, Validation Loss: 3.4682, Validation MedER: 1.3539\n",
            "Epoch [233/300], Train Loss: 3.7031, Train MedER: 1.2870, Validation Loss: 3.4665, Validation MedER: 1.3551\n",
            "Epoch [234/300], Train Loss: 3.7011, Train MedER: 1.2892, Validation Loss: 3.4649, Validation MedER: 1.3563\n",
            "Epoch [235/300], Train Loss: 3.6992, Train MedER: 1.2860, Validation Loss: 3.4633, Validation MedER: 1.3539\n",
            "Epoch [236/300], Train Loss: 3.6973, Train MedER: 1.2859, Validation Loss: 3.4617, Validation MedER: 1.3505\n",
            "Epoch [237/300], Train Loss: 3.6954, Train MedER: 1.2859, Validation Loss: 3.4601, Validation MedER: 1.3472\n",
            "Epoch [238/300], Train Loss: 3.6935, Train MedER: 1.2854, Validation Loss: 3.4585, Validation MedER: 1.3450\n",
            "Epoch [239/300], Train Loss: 3.6917, Train MedER: 1.2843, Validation Loss: 3.4570, Validation MedER: 1.3441\n",
            "Epoch [240/300], Train Loss: 3.6898, Train MedER: 1.2858, Validation Loss: 3.4554, Validation MedER: 1.3428\n",
            "Epoch [241/300], Train Loss: 3.6880, Train MedER: 1.2858, Validation Loss: 3.4539, Validation MedER: 1.3405\n",
            "Epoch [242/300], Train Loss: 3.6862, Train MedER: 1.2858, Validation Loss: 3.4524, Validation MedER: 1.3383\n",
            "Epoch [243/300], Train Loss: 3.6844, Train MedER: 1.2844, Validation Loss: 3.4509, Validation MedER: 1.3361\n",
            "Epoch [244/300], Train Loss: 3.6826, Train MedER: 1.2846, Validation Loss: 3.4494, Validation MedER: 1.3353\n",
            "Epoch [245/300], Train Loss: 3.6808, Train MedER: 1.2848, Validation Loss: 3.4479, Validation MedER: 1.3348\n",
            "Epoch [246/300], Train Loss: 3.6790, Train MedER: 1.2849, Validation Loss: 3.4464, Validation MedER: 1.3342\n",
            "Epoch [247/300], Train Loss: 3.6772, Train MedER: 1.2855, Validation Loss: 3.4449, Validation MedER: 1.3337\n",
            "Epoch [248/300], Train Loss: 3.6755, Train MedER: 1.2855, Validation Loss: 3.4434, Validation MedER: 1.3331\n",
            "Epoch [249/300], Train Loss: 3.6737, Train MedER: 1.2854, Validation Loss: 3.4420, Validation MedER: 1.3320\n",
            "Epoch [250/300], Train Loss: 3.6720, Train MedER: 1.2839, Validation Loss: 3.4405, Validation MedER: 1.3306\n",
            "Epoch [251/300], Train Loss: 3.6703, Train MedER: 1.2819, Validation Loss: 3.4391, Validation MedER: 1.3288\n",
            "Epoch [252/300], Train Loss: 3.6685, Train MedER: 1.2799, Validation Loss: 3.4376, Validation MedER: 1.3270\n",
            "Epoch [253/300], Train Loss: 3.6668, Train MedER: 1.2779, Validation Loss: 3.4362, Validation MedER: 1.3275\n",
            "Epoch [254/300], Train Loss: 3.6651, Train MedER: 1.2800, Validation Loss: 3.4348, Validation MedER: 1.3285\n",
            "Epoch [255/300], Train Loss: 3.6634, Train MedER: 1.2822, Validation Loss: 3.4333, Validation MedER: 1.3294\n",
            "Epoch [256/300], Train Loss: 3.6617, Train MedER: 1.2843, Validation Loss: 3.4319, Validation MedER: 1.3288\n",
            "Epoch [257/300], Train Loss: 3.6600, Train MedER: 1.2849, Validation Loss: 3.4305, Validation MedER: 1.3283\n",
            "Epoch [258/300], Train Loss: 3.6583, Train MedER: 1.2849, Validation Loss: 3.4291, Validation MedER: 1.3278\n",
            "Epoch [259/300], Train Loss: 3.6566, Train MedER: 1.2836, Validation Loss: 3.4277, Validation MedER: 1.3272\n",
            "Epoch [260/300], Train Loss: 3.6550, Train MedER: 1.2797, Validation Loss: 3.4263, Validation MedER: 1.3267\n",
            "Epoch [261/300], Train Loss: 3.6533, Train MedER: 1.2757, Validation Loss: 3.4249, Validation MedER: 1.3262\n",
            "Epoch [262/300], Train Loss: 3.6516, Train MedER: 1.2732, Validation Loss: 3.4235, Validation MedER: 1.3257\n",
            "Epoch [263/300], Train Loss: 3.6500, Train MedER: 1.2731, Validation Loss: 3.4221, Validation MedER: 1.3252\n",
            "Epoch [264/300], Train Loss: 3.6483, Train MedER: 1.2730, Validation Loss: 3.4207, Validation MedER: 1.3246\n",
            "Epoch [265/300], Train Loss: 3.6466, Train MedER: 1.2728, Validation Loss: 3.4193, Validation MedER: 1.3241\n",
            "Epoch [266/300], Train Loss: 3.6450, Train MedER: 1.2727, Validation Loss: 3.4179, Validation MedER: 1.3253\n",
            "Epoch [267/300], Train Loss: 3.6433, Train MedER: 1.2726, Validation Loss: 3.4165, Validation MedER: 1.3270\n",
            "Epoch [268/300], Train Loss: 3.6417, Train MedER: 1.2725, Validation Loss: 3.4151, Validation MedER: 1.3286\n",
            "Epoch [269/300], Train Loss: 3.6400, Train MedER: 1.2723, Validation Loss: 3.4137, Validation MedER: 1.3302\n",
            "Epoch [270/300], Train Loss: 3.6384, Train MedER: 1.2722, Validation Loss: 3.4124, Validation MedER: 1.3306\n",
            "Epoch [271/300], Train Loss: 3.6368, Train MedER: 1.2721, Validation Loss: 3.4110, Validation MedER: 1.3288\n",
            "Epoch [272/300], Train Loss: 3.6351, Train MedER: 1.2720, Validation Loss: 3.4096, Validation MedER: 1.3271\n",
            "Epoch [273/300], Train Loss: 3.6335, Train MedER: 1.2719, Validation Loss: 3.4082, Validation MedER: 1.3253\n",
            "Epoch [274/300], Train Loss: 3.6318, Train MedER: 1.2717, Validation Loss: 3.4068, Validation MedER: 1.3249\n",
            "Epoch [275/300], Train Loss: 3.6302, Train MedER: 1.2716, Validation Loss: 3.4055, Validation MedER: 1.3258\n",
            "Epoch [276/300], Train Loss: 3.6286, Train MedER: 1.2715, Validation Loss: 3.4041, Validation MedER: 1.3267\n",
            "Epoch [277/300], Train Loss: 3.6269, Train MedER: 1.2714, Validation Loss: 3.4027, Validation MedER: 1.3276\n",
            "Epoch [278/300], Train Loss: 3.6253, Train MedER: 1.2713, Validation Loss: 3.4013, Validation MedER: 1.3284\n",
            "Epoch [279/300], Train Loss: 3.6237, Train MedER: 1.2712, Validation Loss: 3.3999, Validation MedER: 1.3292\n",
            "Epoch [280/300], Train Loss: 3.6220, Train MedER: 1.2710, Validation Loss: 3.3986, Validation MedER: 1.3300\n",
            "Epoch [281/300], Train Loss: 3.6204, Train MedER: 1.2709, Validation Loss: 3.3972, Validation MedER: 1.3307\n",
            "Epoch [282/300], Train Loss: 3.6188, Train MedER: 1.2686, Validation Loss: 3.3958, Validation MedER: 1.3310\n",
            "Epoch [283/300], Train Loss: 3.6171, Train MedER: 1.2681, Validation Loss: 3.3944, Validation MedER: 1.3302\n",
            "Epoch [284/300], Train Loss: 3.6155, Train MedER: 1.2668, Validation Loss: 3.3931, Validation MedER: 1.3293\n",
            "Epoch [285/300], Train Loss: 3.6139, Train MedER: 1.2672, Validation Loss: 3.3917, Validation MedER: 1.3285\n",
            "Epoch [286/300], Train Loss: 3.6122, Train MedER: 1.2669, Validation Loss: 3.3903, Validation MedER: 1.3276\n",
            "Epoch [287/300], Train Loss: 3.6106, Train MedER: 1.2666, Validation Loss: 3.3889, Validation MedER: 1.3268\n",
            "Epoch [288/300], Train Loss: 3.6090, Train MedER: 1.2668, Validation Loss: 3.3875, Validation MedER: 1.3260\n",
            "Epoch [289/300], Train Loss: 3.6073, Train MedER: 1.2669, Validation Loss: 3.3861, Validation MedER: 1.3251\n",
            "Epoch [290/300], Train Loss: 3.6057, Train MedER: 1.2670, Validation Loss: 3.3848, Validation MedER: 1.3243\n",
            "Epoch [291/300], Train Loss: 3.6041, Train MedER: 1.2670, Validation Loss: 3.3834, Validation MedER: 1.3235\n",
            "Epoch [292/300], Train Loss: 3.6024, Train MedER: 1.2671, Validation Loss: 3.3820, Validation MedER: 1.3226\n",
            "Epoch [293/300], Train Loss: 3.6008, Train MedER: 1.2671, Validation Loss: 3.3806, Validation MedER: 1.3218\n",
            "Epoch [294/300], Train Loss: 3.5992, Train MedER: 1.2672, Validation Loss: 3.3792, Validation MedER: 1.3210\n",
            "Epoch [295/300], Train Loss: 3.5975, Train MedER: 1.2672, Validation Loss: 3.3778, Validation MedER: 1.3202\n",
            "Epoch [296/300], Train Loss: 3.5959, Train MedER: 1.2672, Validation Loss: 3.3764, Validation MedER: 1.3193\n",
            "Epoch [297/300], Train Loss: 3.5942, Train MedER: 1.2681, Validation Loss: 3.3750, Validation MedER: 1.3185\n",
            "Epoch [298/300], Train Loss: 3.5926, Train MedER: 1.2689, Validation Loss: 3.3736, Validation MedER: 1.3177\n",
            "Epoch [299/300], Train Loss: 3.5910, Train MedER: 1.2687, Validation Loss: 3.3722, Validation MedER: 1.3168\n",
            "Epoch [300/300], Train Loss: 3.5893, Train MedER: 1.2686, Validation Loss: 3.3708, Validation MedER: 1.3160\n"
          ]
        }
      ]
    },
    {
      "cell_type": "code",
      "source": [
        "# Plot the losses and MedER for both training and validation\n",
        "import matplotlib.pyplot as plt\n",
        "\n",
        "# Plot Loss\n",
        "plt.figure(figsize=(10, 5))\n",
        "plt.plot(train_losses, label='Train Loss')\n",
        "plt.plot(val_losses, label='Validation Loss')\n",
        "plt.xlabel('Epochs')\n",
        "plt.ylabel('Loss')\n",
        "plt.title('Train and Validation Loss')\n",
        "plt.legend()\n",
        "plt.show()\n",
        "\n",
        "# Plot Median Error Rate (MedER)\n",
        "plt.figure(figsize=(10, 5))\n",
        "plt.plot(train_mer, label='Train MedER')\n",
        "plt.plot(val_mer, label='Validation MedER')\n",
        "plt.xlabel('Epochs')\n",
        "plt.ylabel('MedER')\n",
        "plt.title('Train and Validation Median Error Rate (MedER)')\n",
        "plt.legend()\n",
        "plt.show()"
      ],
      "metadata": {
        "colab": {
          "base_uri": "https://localhost:8080/",
          "height": 957
        },
        "id": "-ATHYeYF5Oax",
        "outputId": "ee4d6684-8677-4f58-f7d1-afe6622ed983"
      },
      "execution_count": 52,
      "outputs": [
        {
          "output_type": "display_data",
          "data": {
            "text/plain": [
              "<Figure size 1000x500 with 1 Axes>"
            ],
            "image/png": "[encoded data removed]"
          },
          "metadata": {}
        },
        {
          "output_type": "display_data",
          "data": {
            "text/plain": [
              "<Figure size 1000x500 with 1 Axes>"
            ],
            "image/png": "[encoded data removed]"
          },
          "metadata": {}
        }
      ]
    },
    {
      "cell_type": "markdown",
      "source": [
        "Function to compute the average Word2Vec embedding for a text (list of words)"
      ],
      "metadata": {
        "id": "fJSHDH-t1RBK"
      }
    },
    {
      "cell_type": "code",
      "source": [
        "def get_average_word2vec(text, model, num_features=300):\n",
        "    words = text.split()\n",
        "    word_vecs = []\n",
        "    for word in words:\n",
        "        if word in model.key_to_index:\n",
        "            word_vecs.append(model[word])\n",
        "    if len(word_vecs) == 0:\n",
        "        return np.zeros(num_features)\n",
        "    return np.mean(word_vecs, axis=0)"
      ],
      "metadata": {
        "id": "zmEYiIjDwCGK"
      },
      "execution_count": 35,
      "outputs": []
    },
    {
      "cell_type": "markdown",
      "source": [
        "Initialize the preprocessors"
      ],
      "metadata": {
        "id": "pj-WHNO41WC6"
      }
    },
    {
      "cell_type": "code",
      "source": [
        "mlb = MultiLabelBinarizer()\n",
        "scaler = StandardScaler()\n",
        "\n",
        "# Fit MultiLabelBinarizer for genres and StandardScaler for year, budget, and runtime\n",
        "mlb.fit(movie_data['genres'].str.split(','))\n",
        "scaler.fit(movie_data[['year']])"
      ],
      "metadata": {
        "colab": {
          "base_uri": "https://localhost:8080/",
          "height": 80
        },
        "id": "6p0gLMX9wEJL",
        "outputId": "b5fd232b-336f-4fe5-92ca-3e076a5e1665"
      },
      "execution_count": 36,
      "outputs": [
        {
          "output_type": "execute_result",
          "data": {
            "text/plain": [
              "StandardScaler()"
            ],
            "text/html": [
              "<style>#sk-container-id-4 {\n",
              "  /* Definition of color scheme common for light and dark mode */\n",
              "  --sklearn-color-text: black;\n",
              "  --sklearn-color-line: gray;\n",
              "  /* Definition of color scheme for unfitted estimators */\n",
              "  --sklearn-color-unfitted-level-0: #fff5e6;\n",
              "  --sklearn-color-unfitted-level-1: #f6e4d2;\n",
              "  --sklearn-color-unfitted-level-2: #ffe0b3;\n",
              "  --sklearn-color-unfitted-level-3: chocolate;\n",
              "  /* Definition of color scheme for fitted estimators */\n",
              "  --sklearn-color-fitted-level-0: #f0f8ff;\n",
              "  --sklearn-color-fitted-level-1: #d4ebff;\n",
              "  --sklearn-color-fitted-level-2: #b3dbfd;\n",
              "  --sklearn-color-fitted-level-3: cornflowerblue;\n",
              "\n",
              "  /* Specific color for light theme */\n",
              "  --sklearn-color-text-on-default-background: var(--sg-text-color, var(--theme-code-foreground, var(--jp-content-font-color1, black)));\n",
              "  --sklearn-color-background: var(--sg-background-color, var(--theme-background, var(--jp-layout-color0, white)));\n",
              "  --sklearn-color-border-box: var(--sg-text-color, var(--theme-code-foreground, var(--jp-content-font-color1, black)));\n",
              "  --sklearn-color-icon: #696969;\n",
              "\n",
              "  @media (prefers-color-scheme: dark) {\n",
              "    /* Redefinition of color scheme for dark theme */\n",
              "    --sklearn-color-text-on-default-background: var(--sg-text-color, var(--theme-code-foreground, var(--jp-content-font-color1, white)));\n",
              "    --sklearn-color-background: var(--sg-background-color, var(--theme-background, var(--jp-layout-color0, #111)));\n",
              "    --sklearn-color-border-box: var(--sg-text-color, var(--theme-code-foreground, var(--jp-content-font-color1, white)));\n",
              "    --sklearn-color-icon: #878787;\n",
              "  }\n",
              "}\n",
              "\n",
              "#sk-container-id-4 {\n",
              "  color: var(--sklearn-color-text);\n",
              "}\n",
              "\n",
              "#sk-container-id-4 pre {\n",
              "  padding: 0;\n",
              "}\n",
              "\n",
              "#sk-container-id-4 input.sk-hidden--visually {\n",
              "  border: 0;\n",
              "  clip: rect(1px 1px 1px 1px);\n",
              "  clip: rect(1px, 1px, 1px, 1px);\n",
              "  height: 1px;\n",
              "  margin: -1px;\n",
              "  overflow: hidden;\n",
              "  padding: 0;\n",
              "  position: absolute;\n",
              "  width: 1px;\n",
              "}\n",
              "\n",
              "#sk-container-id-4 div.sk-dashed-wrapped {\n",
              "  border: 1px dashed var(--sklearn-color-line);\n",
              "  margin: 0 0.4em 0.5em 0.4em;\n",
              "  box-sizing: border-box;\n",
              "  padding-bottom: 0.4em;\n",
              "  background-color: var(--sklearn-color-background);\n",
              "}\n",
              "\n",
              "#sk-container-id-4 div.sk-container {\n",
              "  /* jupyter's `normalize.less` sets `[hidden] { display: none; }`\n",
              "     but bootstrap.min.css set `[hidden] { display: none !important; }`\n",
              "     so we also need the `!important` here to be able to override the\n",
              "     default hidden behavior on the sphinx rendered scikit-learn.org.\n",
              "     See: https://github.com/scikit-learn/scikit-learn/issues/21755 */\n",
              "  display: inline-block !important;\n",
              "  position: relative;\n",
              "}\n",
              "\n",
              "#sk-container-id-4 div.sk-text-repr-fallback {\n",
              "  display: none;\n",
              "}\n",
              "\n",
              "div.sk-parallel-item,\n",
              "div.sk-serial,\n",
              "div.sk-item {\n",
              "  /* draw centered vertical line to link estimators */\n",
              "  background-image: linear-gradient(var(--sklearn-color-text-on-default-background), var(--sklearn-color-text-on-default-background));\n",
              "  background-size: 2px 100%;\n",
              "  background-repeat: no-repeat;\n",
              "  background-position: center center;\n",
              "}\n",
              "\n",
              "/* Parallel-specific style estimator block */\n",
              "\n",
              "#sk-container-id-4 div.sk-parallel-item::after {\n",
              "  content: \"\";\n",
              "  width: 100%;\n",
              "  border-bottom: 2px solid var(--sklearn-color-text-on-default-background);\n",
              "  flex-grow: 1;\n",
              "}\n",
              "\n",
              "#sk-container-id-4 div.sk-parallel {\n",
              "  display: flex;\n",
              "  align-items: stretch;\n",
              "  justify-content: center;\n",
              "  background-color: var(--sklearn-color-background);\n",
              "  position: relative;\n",
              "}\n",
              "\n",
              "#sk-container-id-4 div.sk-parallel-item {\n",
              "  display: flex;\n",
              "  flex-direction: column;\n",
              "}\n",
              "\n",
              "#sk-container-id-4 div.sk-parallel-item:first-child::after {\n",
              "  align-self: flex-end;\n",
              "  width: 50%;\n",
              "}\n",
              "\n",
              "#sk-container-id-4 div.sk-parallel-item:last-child::after {\n",
              "  align-self: flex-start;\n",
              "  width: 50%;\n",
              "}\n",
              "\n",
              "#sk-container-id-4 div.sk-parallel-item:only-child::after {\n",
              "  width: 0;\n",
              "}\n",
              "\n",
              "/* Serial-specific style estimator block */\n",
              "\n",
              "#sk-container-id-4 div.sk-serial {\n",
              "  display: flex;\n",
              "  flex-direction: column;\n",
              "  align-items: center;\n",
              "  background-color: var(--sklearn-color-background);\n",
              "  padding-right: 1em;\n",
              "  padding-left: 1em;\n",
              "}\n",
              "\n",
              "\n",
              "/* Toggleable style: style used for estimator/Pipeline/ColumnTransformer box that is\n",
              "clickable and can be expanded/collapsed.\n",
              "- Pipeline and ColumnTransformer use this feature and define the default style\n",
              "- Estimators will overwrite some part of the style using the `sk-estimator` class\n",
              "*/\n",
              "\n",
              "/* Pipeline and ColumnTransformer style (default) */\n",
              "\n",
              "#sk-container-id-4 div.sk-toggleable {\n",
              "  /* Default theme specific background. It is overwritten whether we have a\n",
              "  specific estimator or a Pipeline/ColumnTransformer */\n",
              "  background-color: var(--sklearn-color-background);\n",
              "}\n",
              "\n",
              "/* Toggleable label */\n",
              "#sk-container-id-4 label.sk-toggleable__label {\n",
              "  cursor: pointer;\n",
              "  display: block;\n",
              "  width: 100%;\n",
              "  margin-bottom: 0;\n",
              "  padding: 0.5em;\n",
              "  box-sizing: border-box;\n",
              "  text-align: center;\n",
              "}\n",
              "\n",
              "#sk-container-id-4 label.sk-toggleable__label-arrow:before {\n",
              "  /* Arrow on the left of the label */\n",
              "  content: \"▸\";\n",
              "  float: left;\n",
              "  margin-right: 0.25em;\n",
              "  color: var(--sklearn-color-icon);\n",
              "}\n",
              "\n",
              "#sk-container-id-4 label.sk-toggleable__label-arrow:hover:before {\n",
              "  color: var(--sklearn-color-text);\n",
              "}\n",
              "\n",
              "/* Toggleable content - dropdown */\n",
              "\n",
              "#sk-container-id-4 div.sk-toggleable__content {\n",
              "  max-height: 0;\n",
              "  max-width: 0;\n",
              "  overflow: hidden;\n",
              "  text-align: left;\n",
              "  /* unfitted */\n",
              "  background-color: var(--sklearn-color-unfitted-level-0);\n",
              "}\n",
              "\n",
              "#sk-container-id-4 div.sk-toggleable__content.fitted {\n",
              "  /* fitted */\n",
              "  background-color: var(--sklearn-color-fitted-level-0);\n",
              "}\n",
              "\n",
              "#sk-container-id-4 div.sk-toggleable__content pre {\n",
              "  margin: 0.2em;\n",
              "  border-radius: 0.25em;\n",
              "  color: var(--sklearn-color-text);\n",
              "  /* unfitted */\n",
              "  background-color: var(--sklearn-color-unfitted-level-0);\n",
              "}\n",
              "\n",
              "#sk-container-id-4 div.sk-toggleable__content.fitted pre {\n",
              "  /* unfitted */\n",
              "  background-color: var(--sklearn-color-fitted-level-0);\n",
              "}\n",
              "\n",
              "#sk-container-id-4 input.sk-toggleable__control:checked~div.sk-toggleable__content {\n",
              "  /* Expand drop-down */\n",
              "  max-height: 200px;\n",
              "  max-width: 100%;\n",
              "  overflow: auto;\n",
              "}\n",
              "\n",
              "#sk-container-id-4 input.sk-toggleable__control:checked~label.sk-toggleable__label-arrow:before {\n",
              "  content: \"▾\";\n",
              "}\n",
              "\n",
              "/* Pipeline/ColumnTransformer-specific style */\n",
              "\n",
              "#sk-container-id-4 div.sk-label input.sk-toggleable__control:checked~label.sk-toggleable__label {\n",
              "  color: var(--sklearn-color-text);\n",
              "  background-color: var(--sklearn-color-unfitted-level-2);\n",
              "}\n",
              "\n",
              "#sk-container-id-4 div.sk-label.fitted input.sk-toggleable__control:checked~label.sk-toggleable__label {\n",
              "  background-color: var(--sklearn-color-fitted-level-2);\n",
              "}\n",
              "\n",
              "/* Estimator-specific style */\n",
              "\n",
              "/* Colorize estimator box */\n",
              "#sk-container-id-4 div.sk-estimator input.sk-toggleable__control:checked~label.sk-toggleable__label {\n",
              "  /* unfitted */\n",
              "  background-color: var(--sklearn-color-unfitted-level-2);\n",
              "}\n",
              "\n",
              "#sk-container-id-4 div.sk-estimator.fitted input.sk-toggleable__control:checked~label.sk-toggleable__label {\n",
              "  /* fitted */\n",
              "  background-color: var(--sklearn-color-fitted-level-2);\n",
              "}\n",
              "\n",
              "#sk-container-id-4 div.sk-label label.sk-toggleable__label,\n",
              "#sk-container-id-4 div.sk-label label {\n",
              "  /* The background is the default theme color */\n",
              "  color: var(--sklearn-color-text-on-default-background);\n",
              "}\n",
              "\n",
              "/* On hover, darken the color of the background */\n",
              "#sk-container-id-4 div.sk-label:hover label.sk-toggleable__label {\n",
              "  color: var(--sklearn-color-text);\n",
              "  background-color: var(--sklearn-color-unfitted-level-2);\n",
              "}\n",
              "\n",
              "/* Label box, darken color on hover, fitted */\n",
              "#sk-container-id-4 div.sk-label.fitted:hover label.sk-toggleable__label.fitted {\n",
              "  color: var(--sklearn-color-text);\n",
              "  background-color: var(--sklearn-color-fitted-level-2);\n",
              "}\n",
              "\n",
              "/* Estimator label */\n",
              "\n",
              "#sk-container-id-4 div.sk-label label {\n",
              "  font-family: monospace;\n",
              "  font-weight: bold;\n",
              "  display: inline-block;\n",
              "  line-height: 1.2em;\n",
              "}\n",
              "\n",
              "#sk-container-id-4 div.sk-label-container {\n",
              "  text-align: center;\n",
              "}\n",
              "\n",
              "/* Estimator-specific */\n",
              "#sk-container-id-4 div.sk-estimator {\n",
              "  font-family: monospace;\n",
              "  border: 1px dotted var(--sklearn-color-border-box);\n",
              "  border-radius: 0.25em;\n",
              "  box-sizing: border-box;\n",
              "  margin-bottom: 0.5em;\n",
              "  /* unfitted */\n",
              "  background-color: var(--sklearn-color-unfitted-level-0);\n",
              "}\n",
              "\n",
              "#sk-container-id-4 div.sk-estimator.fitted {\n",
              "  /* fitted */\n",
              "  background-color: var(--sklearn-color-fitted-level-0);\n",
              "}\n",
              "\n",
              "/* on hover */\n",
              "#sk-container-id-4 div.sk-estimator:hover {\n",
              "  /* unfitted */\n",
              "  background-color: var(--sklearn-color-unfitted-level-2);\n",
              "}\n",
              "\n",
              "#sk-container-id-4 div.sk-estimator.fitted:hover {\n",
              "  /* fitted */\n",
              "  background-color: var(--sklearn-color-fitted-level-2);\n",
              "}\n",
              "\n",
              "/* Specification for estimator info (e.g. \"i\" and \"?\") */\n",
              "\n",
              "/* Common style for \"i\" and \"?\" */\n",
              "\n",
              ".sk-estimator-doc-link,\n",
              "a:link.sk-estimator-doc-link,\n",
              "a:visited.sk-estimator-doc-link {\n",
              "  float: right;\n",
              "  font-size: smaller;\n",
              "  line-height: 1em;\n",
              "  font-family: monospace;\n",
              "  background-color: var(--sklearn-color-background);\n",
              "  border-radius: 1em;\n",
              "  height: 1em;\n",
              "  width: 1em;\n",
              "  text-decoration: none !important;\n",
              "  margin-left: 1ex;\n",
              "  /* unfitted */\n",
              "  border: var(--sklearn-color-unfitted-level-1) 1pt solid;\n",
              "  color: var(--sklearn-color-unfitted-level-1);\n",
              "}\n",
              "\n",
              ".sk-estimator-doc-link.fitted,\n",
              "a:link.sk-estimator-doc-link.fitted,\n",
              "a:visited.sk-estimator-doc-link.fitted {\n",
              "  /* fitted */\n",
              "  border: var(--sklearn-color-fitted-level-1) 1pt solid;\n",
              "  color: var(--sklearn-color-fitted-level-1);\n",
              "}\n",
              "\n",
              "/* On hover */\n",
              "div.sk-estimator:hover .sk-estimator-doc-link:hover,\n",
              ".sk-estimator-doc-link:hover,\n",
              "div.sk-label-container:hover .sk-estimator-doc-link:hover,\n",
              ".sk-estimator-doc-link:hover {\n",
              "  /* unfitted */\n",
              "  background-color: var(--sklearn-color-unfitted-level-3);\n",
              "  color: var(--sklearn-color-background);\n",
              "  text-decoration: none;\n",
              "}\n",
              "\n",
              "div.sk-estimator.fitted:hover .sk-estimator-doc-link.fitted:hover,\n",
              ".sk-estimator-doc-link.fitted:hover,\n",
              "div.sk-label-container:hover .sk-estimator-doc-link.fitted:hover,\n",
              ".sk-estimator-doc-link.fitted:hover {\n",
              "  /* fitted */\n",
              "  background-color: var(--sklearn-color-fitted-level-3);\n",
              "  color: var(--sklearn-color-background);\n",
              "  text-decoration: none;\n",
              "}\n",
              "\n",
              "/* Span, style for the box shown on hovering the info icon */\n",
              ".sk-estimator-doc-link span {\n",
              "  display: none;\n",
              "  z-index: 9999;\n",
              "  position: relative;\n",
              "  font-weight: normal;\n",
              "  right: .2ex;\n",
              "  padding: .5ex;\n",
              "  margin: .5ex;\n",
              "  width: min-content;\n",
              "  min-width: 20ex;\n",
              "  max-width: 50ex;\n",
              "  color: var(--sklearn-color-text);\n",
              "  box-shadow: 2pt 2pt 4pt #999;\n",
              "  /* unfitted */\n",
              "  background: var(--sklearn-color-unfitted-level-0);\n",
              "  border: .5pt solid var(--sklearn-color-unfitted-level-3);\n",
              "}\n",
              "\n",
              ".sk-estimator-doc-link.fitted span {\n",
              "  /* fitted */\n",
              "  background: var(--sklearn-color-fitted-level-0);\n",
              "  border: var(--sklearn-color-fitted-level-3);\n",
              "}\n",
              "\n",
              ".sk-estimator-doc-link:hover span {\n",
              "  display: block;\n",
              "}\n",
              "\n",
              "/* \"?\"-specific style due to the `<a>` HTML tag */\n",
              "\n",
              "#sk-container-id-4 a.estimator_doc_link {\n",
              "  float: right;\n",
              "  font-size: 1rem;\n",
              "  line-height: 1em;\n",
              "  font-family: monospace;\n",
              "  background-color: var(--sklearn-color-background);\n",
              "  border-radius: 1rem;\n",
              "  height: 1rem;\n",
              "  width: 1rem;\n",
              "  text-decoration: none;\n",
              "  /* unfitted */\n",
              "  color: var(--sklearn-color-unfitted-level-1);\n",
              "  border: var(--sklearn-color-unfitted-level-1) 1pt solid;\n",
              "}\n",
              "\n",
              "#sk-container-id-4 a.estimator_doc_link.fitted {\n",
              "  /* fitted */\n",
              "  border: var(--sklearn-color-fitted-level-1) 1pt solid;\n",
              "  color: var(--sklearn-color-fitted-level-1);\n",
              "}\n",
              "\n",
              "/* On hover */\n",
              "#sk-container-id-4 a.estimator_doc_link:hover {\n",
              "  /* unfitted */\n",
              "  background-color: var(--sklearn-color-unfitted-level-3);\n",
              "  color: var(--sklearn-color-background);\n",
              "  text-decoration: none;\n",
              "}\n",
              "\n",
              "#sk-container-id-4 a.estimator_doc_link.fitted:hover {\n",
              "  /* fitted */\n",
              "  background-color: var(--sklearn-color-fitted-level-3);\n",
              "}\n",
              "</style><div id=\"sk-container-id-4\" class=\"sk-top-container\"><div class=\"sk-text-repr-fallback\"><pre>StandardScaler()</pre><b>In a Jupyter environment, please rerun this cell to show the HTML representation or trust the notebook. <br />On GitHub, the HTML representation is unable to render, please try loading this page with nbviewer.org.</b></div><div class=\"sk-container\" hidden><div class=\"sk-item\"><div class=\"sk-estimator fitted sk-toggleable\"><input class=\"sk-toggleable__control sk-hidden--visually\" id=\"sk-estimator-id-4\" type=\"checkbox\" checked><label for=\"sk-estimator-id-4\" class=\"sk-toggleable__label fitted sk-toggleable__label-arrow fitted\">&nbsp;&nbsp;StandardScaler<a class=\"sk-estimator-doc-link fitted\" rel=\"noreferrer\" target=\"_blank\" href=\"https://scikit-learn.org/1.5/modules/generated/sklearn.preprocessing.StandardScaler.html\">?<span>Documentation for StandardScaler</span></a><span class=\"sk-estimator-doc-link fitted\">i<span>Fitted</span></span></label><div class=\"sk-toggleable__content fitted\"><pre>StandardScaler()</pre></div> </div></div></div></div>"
            ]
          },
          "metadata": {},
          "execution_count": 36
        }
      ]
    },
    {
      "cell_type": "markdown",
      "source": [
        "Function to compute the average Word2Vec embedding for a text (list of words)"
      ],
      "metadata": {
        "id": "-1IcMglZ1bcp"
      }
    },
    {
      "cell_type": "code",
      "source": [
        "def get_average_word2vec(text, model, num_features=300):\n",
        "    words = text.split()\n",
        "    word_vecs = []\n",
        "    for word in words:\n",
        "        if word in model.key_to_index:\n",
        "            word_vecs.append(model[word])\n",
        "    if len(word_vecs) == 0:\n",
        "        return np.zeros(num_features)\n",
        "    return np.mean(word_vecs, axis=0)"
      ],
      "metadata": {
        "id": "rgKC5ZNawH7O"
      },
      "execution_count": 37,
      "outputs": []
    },
    {
      "cell_type": "markdown",
      "source": [
        "# Process features using Word2Vec"
      ],
      "metadata": {
        "id": "7NxRokgx1gUR"
      }
    },
    {
      "cell_type": "code",
      "source": [
        "\n",
        "X_plot_vecs = np.array([get_average_word2vec(plot, word2vec_model) for plot in movie_data['plot']])\n",
        "X_keywords_vecs = np.array([get_average_word2vec(keywords, word2vec_model) for keywords in movie_data['keywords']])\n",
        "X_producers_vecs = np.array([get_average_word2vec(producers, word2vec_model) for producers in movie_data['producers']])\n",
        "X_directors_vecs = np.array([get_average_word2vec(directors, word2vec_model) for directors in movie_data['directors']])\n",
        "X_casting_directors_vecs = np.array([get_average_word2vec(casting_directors, word2vec_model) for casting_directors in movie_data['casting directors']])\n",
        "X_taglines_vecs = np.array([get_average_word2vec(taglines, word2vec_model) for taglines in movie_data['taglines']])\n",
        "\n",
        "# Process genres and year columns\n",
        "X_genres = mlb.transform(movie_data['genres'].str.split(','))\n",
        "X_year = scaler.transform(movie_data[['year']].values)\n"
      ],
      "metadata": {
        "colab": {
          "base_uri": "https://localhost:8080/"
        },
        "id": "CfVXpLMSwQ8a",
        "outputId": "024f4fb4-1ac8-485d-d4c0-d8274fa677f6"
      },
      "execution_count": 38,
      "outputs": [
        {
          "output_type": "stream",
          "name": "stderr",
          "text": [
            "/usr/local/lib/python3.10/dist-packages/sklearn/base.py:493: UserWarning: X does not have valid feature names, but StandardScaler was fitted with feature names\n",
            "  warnings.warn(\n"
          ]
        }
      ]
    },
    {
      "cell_type": "markdown",
      "source": [
        "# Combine all features into a single feature matrix"
      ],
      "metadata": {
        "id": "jW6k_UZM1k1B"
      }
    },
    {
      "cell_type": "code",
      "source": [
        "\n",
        "X_combined = np.hstack([\n",
        "    X_plot_vecs, X_keywords_vecs, X_producers_vecs, X_directors_vecs, X_genres,\n",
        "    X_casting_directors_vecs, X_taglines_vecs, X_year\n",
        "])\n",
        "\n",
        "# Convert to PyTorch tensor\n",
        "X_tensor = torch.tensor(X_combined, dtype=torch.float32)"
      ],
      "metadata": {
        "id": "oiFpONIuwJsz"
      },
      "execution_count": 39,
      "outputs": []
    },
    {
      "cell_type": "code",
      "source": [
        "ratings = movie_data['imdb user rating'].values\n",
        "ratings_number = movie_data['number of imdb user votes'].values/100000\n",
        "budget = movie_data['budget'].values\n",
        "y_ratings = torch.tensor(ratings, dtype=torch.float32)\n",
        "y_ratingsnumber = torch.tensor(ratings_number, dtype=torch.float32)\n",
        "print(ratings_number.shape)\n",
        "print(y_ratingsnumber.shape)\n",
        "X_tensor.shape"
      ],
      "metadata": {
        "colab": {
          "base_uri": "https://localhost:8080/"
        },
        "id": "PAjuMKlfy2LD",
        "outputId": "7c5e39ed-891f-485d-8803-0177cb4e84c9"
      },
      "execution_count": 40,
      "outputs": [
        {
          "output_type": "stream",
          "name": "stdout",
          "text": [
            "(2858,)\n",
            "torch.Size([2858])\n"
          ]
        },
        {
          "output_type": "execute_result",
          "data": {
            "text/plain": [
              "torch.Size([2858, 1855])"
            ]
          },
          "metadata": {},
          "execution_count": 40
        }
      ]
    },
    {
      "cell_type": "markdown",
      "source": [
        "Split the combined validation + test set into validation and test sets"
      ],
      "metadata": {
        "id": "LKxm3qwd1oey"
      }
    },
    {
      "cell_type": "code",
      "source": [
        "X_train, X_temp, y_train_ratings, y_temp_ratings = train_test_split(\n",
        "    X_tensor, y_ratings, test_size=0.4, random_state=42)\n",
        "\n",
        "X_val, X_test, y_val_ratings, y_test_ratings = train_test_split(\n",
        "    X_temp, y_temp_ratings, test_size=0.5, random_state=42)"
      ],
      "metadata": {
        "id": "K0KD61SazPLj"
      },
      "execution_count": 41,
      "outputs": []
    },
    {
      "cell_type": "code",
      "source": [
        "import torch\n",
        "import torch.nn as nn\n",
        "\n",
        "class MovieSuccessPredictor(nn.Module):\n",
        "    def __init__(self, input_size):\n",
        "        super(MovieSuccessPredictor, self).__init__()\n",
        "        self.fc1 = nn.Linear(input_size, 512)\n",
        "        self.fc2 = nn.Linear(512, 256)\n",
        "        self.fc3 = nn.Linear(256, 128)\n",
        "        self.fc4 = nn.Linear(128, 64)\n",
        "        self.dropout = nn.Dropout(0.6)\n",
        "        self.batch_norm1 = nn.BatchNorm1d(512)\n",
        "        self.batch_norm2 = nn.BatchNorm1d(256)\n",
        "        self.batch_norm3 = nn.BatchNorm1d(128)\n",
        "\n",
        "        # Output layer (No sigmoid, output the raw predicted rating)\n",
        "        self.rating_output = nn.Linear(64, 1)\n",
        "\n",
        "    def forward(self, x):\n",
        "        x = torch.relu(self.fc1(x))\n",
        "        x = self.batch_norm1(x)\n",
        "        x = self.dropout(torch.relu(self.fc2(x)))\n",
        "        x = self.batch_norm2(x)\n",
        "\n",
        "        x = torch.relu(self.fc3(x))\n",
        "        x = self.batch_norm3(x)\n",
        "        x = torch.relu(self.fc4(x))\n",
        "\n",
        "        # Output the raw rating (no sigmoid)\n",
        "        rating = self.rating_output(x)\n",
        "\n",
        "        # Clamp the output to be between 1 and 10 (for IMDb ratings)\n",
        "        rating = torch.clamp(rating, min=1, max=10)\n",
        "\n",
        "        return rating\n"
      ],
      "metadata": {
        "id": "FvVub6itz4Ec"
      },
      "execution_count": 42,
      "outputs": []
    },
    {
      "cell_type": "code",
      "source": [
        "input_size = X_train.shape[1]  # The number of features\n",
        "model = MovieSuccessPredictor(input_size)\n",
        "criterion = nn.MSELoss()  # MSE loss for regression tasks\n",
        "optimizer = Adam(model.parameters(), lr=0.001)  # Adam optimizer with learning rate 0.001"
      ],
      "metadata": {
        "id": "572EueT8z7Yz"
      },
      "execution_count": 43,
      "outputs": []
    },
    {
      "cell_type": "code",
      "source": [
        "import torch\n",
        "import torch.nn as nn\n",
        "import matplotlib.pyplot as plt\n",
        "\n",
        "# Number of epochs and batch size\n",
        "num_epochs = 300\n",
        "batch_size = 32\n",
        "\n",
        "train_losses = []\n",
        "val_losses = []\n",
        "train_mer = []\n",
        "val_mer = []\n",
        "\n",
        "# Early stopping parameters\n",
        "patience = 25\n",
        "best_val_loss = float('inf')\n",
        "epochs_without_improvement = 0\n",
        "\n",
        "# Training loop\n",
        "for epoch in range(num_epochs):\n",
        "    # Train phase\n",
        "    model.train()  # Set the model to training mode\n",
        "    running_train_loss = 0.0\n",
        "    running_train_mer = 0.0\n",
        "\n",
        "    for i in range(0, len(X_train), batch_size):\n",
        "        # Create mini-batches for training\n",
        "        X_batch = X_train[i:i + batch_size]\n",
        "        y_batch_ratings = y_train_ratings[i:i + batch_size]\n",
        "\n",
        "        optimizer.zero_grad()\n",
        "        # Forward pass\n",
        "        rating_pred = model(X_batch)\n",
        "\n",
        "        # Calculate the loss\n",
        "        loss_rating = criterion(rating_pred, y_batch_ratings.view(-1, 1))\n",
        "\n",
        "        # Backward pass (compute gradients)\n",
        "        loss_rating.backward()\n",
        "\n",
        "        # Update model parameters using the optimizer\n",
        "        optimizer.step()\n",
        "\n",
        "        # Track the training loss\n",
        "        running_train_loss += loss_rating.item()\n",
        "\n",
        "        # Calculate the Median Error Rate (MedER) for the current batch\n",
        "        abs_error = torch.abs(rating_pred.view(-1) - y_batch_ratings)\n",
        "        med_er = torch.median(abs_error)\n",
        "        running_train_mer += med_er.item()\n",
        "\n",
        "    # Calculate the average training loss and MedER for the epoch\n",
        "    avg_train_loss = running_train_loss / len(X_train)\n",
        "    avg_train_mer = running_train_mer / (len(X_train) / batch_size)\n",
        "\n",
        "    # Store values for plotting\n",
        "    train_losses.append(avg_train_loss)\n",
        "    train_mer.append(avg_train_mer)\n",
        "\n",
        "    # Validation phase\n",
        "    model.eval()\n",
        "    running_val_loss = 0.0\n",
        "    running_val_mer = 0.0\n",
        "\n",
        "    with torch.no_grad():  # No gradients for validation\n",
        "        for i in range(0, len(X_val), batch_size):\n",
        "            # Create mini-batches for validation\n",
        "            X_batch_val = X_val[i:i + batch_size]\n",
        "            y_batch_ratings_val = y_val_ratings[i:i + batch_size]\n",
        "\n",
        "            # Forward pass for validation\n",
        "            rating_pred_val = model(X_batch_val)\n",
        "\n",
        "            # Calculate the loss for validation\n",
        "            loss_rating_val = criterion(rating_pred_val, y_batch_ratings_val.view(-1, 1))\n",
        "\n",
        "            # Track the validation loss\n",
        "            running_val_loss += loss_rating_val.item()\n",
        "\n",
        "            # Calculate the Median Error Rate (MedER) for the validation batch\n",
        "            abs_error_val = torch.abs(rating_pred_val.view(-1) - y_batch_ratings_val)\n",
        "            med_er_val = torch.median(abs_error_val)\n",
        "            running_val_mer += med_er_val.item()\n",
        "\n",
        "    # Calculate the average validation loss and MedER\n",
        "    avg_val_loss = running_val_loss / len(X_val)\n",
        "    avg_val_mer = running_val_mer / (len(X_val) / batch_size)\n",
        "\n",
        "    # Store values for plotting\n",
        "    val_losses.append(avg_val_loss)\n",
        "    val_mer.append(avg_val_mer)\n",
        "\n",
        "    # Print the results for the current epoch\n",
        "    print(f\"Epoch [{epoch + 1}/{num_epochs}], Train Loss: {avg_train_loss:.4f}, Train MedER: {avg_train_mer:.4f}, \"\n",
        "          f\"Validation Loss: {avg_val_loss:.4f}, Validation MedER: {avg_val_mer:.4f}\")\n",
        "\n",
        "    # Early stopping check\n",
        "    if avg_val_loss < best_val_loss:\n",
        "        best_val_loss = avg_val_loss\n",
        "        epochs_without_improvement = 0\n",
        "    else:\n",
        "        epochs_without_improvement += 1\n",
        "\n",
        "    if epochs_without_improvement >= patience:\n",
        "        print(f\"Early stopping on epoch {epoch + 1}\")\n",
        "        break\n",
        "\n",
        "# Create a figure with two subplots for separate graphs\n",
        "fig, (ax1, ax2) = plt.subplots(2, 1, figsize=(10, 8))\n",
        "\n",
        "# Plot the train and validation loss\n",
        "ax1.set_xlabel('Epochs')\n",
        "ax1.set_ylabel('Loss', color='tab:blue')\n",
        "ax1.plot(range(1, len(train_losses) + 1), train_losses, color='tab:blue', label='Train Loss')\n",
        "ax1.plot(range(1, len(val_losses) + 1), val_losses, color='tab:orange', label='Validation Loss')\n",
        "ax1.tick_params(axis='y', labelcolor='tab:blue')\n",
        "ax1.legend(loc='upper right')\n",
        "ax1.set_title('Training and Validation Loss Over Epochs')\n",
        "ax1.set_ylim([0, 10])\n",
        "\n",
        "# Plot the train and validation MedER\n",
        "ax2.set_xlabel('Epochs')\n",
        "ax2.set_ylabel('MedER', color='tab:green')\n",
        "ax2.plot(range(1, len(train_mer) + 1), train_mer, color='tab:green', label='Train MedER')\n",
        "ax2.plot(range(1, len(val_mer) + 1), val_mer, color='tab:red', label='Validation MedER')\n",
        "ax2.tick_params(axis='y', labelcolor='tab:green')\n",
        "ax2.legend(loc='upper right')\n",
        "ax2.set_title('Training and Validation MedER Over Epochs')\n",
        "ax2.set_ylim([0, 10])\n",
        "# Adjust layout and display\n",
        "fig.tight_layout()\n",
        "plt.show()\n"
      ],
      "metadata": {
        "colab": {
          "base_uri": "https://localhost:8080/",
          "height": 1000
        },
        "id": "ilNV_sM60Cuk",
        "outputId": "0ebc4d56-ea42-4bd6-ac24-22faf851761e"
      },
      "execution_count": 44,
      "outputs": [
        {
          "output_type": "stream",
          "name": "stdout",
          "text": [
            "Epoch [1/300], Train Loss: 0.8886, Train MedER: 5.3154, Validation Loss: 0.8172, Validation MedER: 5.1770\n",
            "Epoch [2/300], Train Loss: 0.3500, Train MedER: 2.1512, Validation Loss: 0.1414, Validation MedER: 0.8157\n",
            "Epoch [3/300], Train Loss: 0.1376, Train MedER: 0.9805, Validation Loss: 0.0947, Validation MedER: 0.9864\n",
            "Epoch [4/300], Train Loss: 0.1003, Train MedER: 0.8229, Validation Loss: 0.0823, Validation MedER: 0.7927\n",
            "Epoch [5/300], Train Loss: 0.0796, Train MedER: 0.7600, Validation Loss: 0.0829, Validation MedER: 0.7991\n",
            "Epoch [6/300], Train Loss: 0.0682, Train MedER: 0.6839, Validation Loss: 0.0784, Validation MedER: 0.7418\n",
            "Epoch [7/300], Train Loss: 0.0617, Train MedER: 0.6573, Validation Loss: 0.0805, Validation MedER: 0.7369\n",
            "Epoch [8/300], Train Loss: 0.0542, Train MedER: 0.6427, Validation Loss: 0.0832, Validation MedER: 0.7107\n",
            "Epoch [9/300], Train Loss: 0.0470, Train MedER: 0.5940, Validation Loss: 0.0869, Validation MedER: 0.7396\n",
            "Epoch [10/300], Train Loss: 0.0444, Train MedER: 0.5734, Validation Loss: 0.0838, Validation MedER: 0.6703\n",
            "Epoch [11/300], Train Loss: 0.0432, Train MedER: 0.5593, Validation Loss: 0.0847, Validation MedER: 0.6952\n",
            "Epoch [12/300], Train Loss: 0.0411, Train MedER: 0.5633, Validation Loss: 0.0875, Validation MedER: 0.7036\n",
            "Epoch [13/300], Train Loss: 0.0365, Train MedER: 0.5278, Validation Loss: 0.0898, Validation MedER: 0.6786\n",
            "Epoch [14/300], Train Loss: 0.0358, Train MedER: 0.5179, Validation Loss: 0.0856, Validation MedER: 0.6703\n",
            "Epoch [15/300], Train Loss: 0.0336, Train MedER: 0.4828, Validation Loss: 0.0873, Validation MedER: 0.7146\n",
            "Epoch [16/300], Train Loss: 0.0333, Train MedER: 0.4821, Validation Loss: 0.0879, Validation MedER: 0.7973\n",
            "Epoch [17/300], Train Loss: 0.0314, Train MedER: 0.4444, Validation Loss: 0.0889, Validation MedER: 0.7285\n",
            "Epoch [18/300], Train Loss: 0.0321, Train MedER: 0.4932, Validation Loss: 0.0938, Validation MedER: 0.7812\n",
            "Epoch [19/300], Train Loss: 0.0285, Train MedER: 0.4372, Validation Loss: 0.0929, Validation MedER: 0.6977\n",
            "Epoch [20/300], Train Loss: 0.0289, Train MedER: 0.4409, Validation Loss: 0.0950, Validation MedER: 0.7729\n",
            "Epoch [21/300], Train Loss: 0.0293, Train MedER: 0.4402, Validation Loss: 0.0900, Validation MedER: 0.7455\n",
            "Epoch [22/300], Train Loss: 0.0279, Train MedER: 0.4139, Validation Loss: 0.0904, Validation MedER: 0.7966\n",
            "Epoch [23/300], Train Loss: 0.0256, Train MedER: 0.4017, Validation Loss: 0.0948, Validation MedER: 0.7641\n",
            "Epoch [24/300], Train Loss: 0.0265, Train MedER: 0.4175, Validation Loss: 0.0875, Validation MedER: 0.7226\n",
            "Epoch [25/300], Train Loss: 0.0257, Train MedER: 0.3950, Validation Loss: 0.0895, Validation MedER: 0.7221\n",
            "Epoch [26/300], Train Loss: 0.0246, Train MedER: 0.3715, Validation Loss: 0.0874, Validation MedER: 0.7184\n",
            "Epoch [27/300], Train Loss: 0.0239, Train MedER: 0.3854, Validation Loss: 0.0858, Validation MedER: 0.7012\n",
            "Epoch [28/300], Train Loss: 0.0241, Train MedER: 0.3894, Validation Loss: 0.0906, Validation MedER: 0.7646\n",
            "Epoch [29/300], Train Loss: 0.0249, Train MedER: 0.4085, Validation Loss: 0.0947, Validation MedER: 0.7501\n",
            "Epoch [30/300], Train Loss: 0.0237, Train MedER: 0.3962, Validation Loss: 0.0948, Validation MedER: 0.7644\n",
            "Epoch [31/300], Train Loss: 0.0220, Train MedER: 0.3614, Validation Loss: 0.0933, Validation MedER: 0.7908\n",
            "Early stopping on epoch 31\n"
          ]
        },
        {
          "output_type": "display_data",
          "data": {
            "text/plain": [
              "<Figure size 1000x800 with 2 Axes>"
            ],
            "image/png": "[encoded data removed]"
          },
          "metadata": {}
        }
      ]
    },
    {
      "cell_type": "markdown",
      "source": [
        "# Evaluate the model on the test data"
      ],
      "metadata": {
        "id": "je0wm3q-1tMC"
      }
    },
    {
      "cell_type": "code",
      "source": [
        "\n",
        "model.eval()\n",
        "running_test_loss = 0.0\n",
        "total_samples = 0\n",
        "\n",
        "with torch.no_grad():\n",
        "    for i in range(0, len(X_test), batch_size):\n",
        "\n",
        "        X_batch = X_test[i:i+batch_size]\n",
        "        y_batch_ratings = y_test_ratings[i:i+batch_size]\n",
        "\n",
        "        # Forward pass\n",
        "        rating_pred = model(X_batch)\n",
        "\n",
        "        # Calculate the loss (only for IMDb rating)\n",
        "        loss_rating = criterion(rating_pred, y_batch_ratings.view(-1, 1))\n",
        "\n",
        "        # Track the test loss\n",
        "        running_test_loss += loss_rating.item()\n",
        "        total_samples += X_batch.size(0)\n",
        "\n",
        "# Print the average test loss\n",
        "average_test_loss = running_test_loss / total_samples\n",
        "print(f\"Test Loss: {average_test_loss:.4f}\")\n"
      ],
      "metadata": {
        "colab": {
          "base_uri": "https://localhost:8080/"
        },
        "id": "-aMWj7al0Nqq",
        "outputId": "7098e6bf-6b9a-43f2-d695-0d1aa5d482c5"
      },
      "execution_count": 45,
      "outputs": [
        {
          "output_type": "stream",
          "name": "stdout",
          "text": [
            "Test Loss: 0.0889\n"
          ]
        }
      ]
    },
    {
      "cell_type": "markdown",
      "source": [
        "Predicting the imdb rating of a movie"
      ],
      "metadata": {
        "id": "ufdCJ9o3cImI"
      }
    },
    {
      "cell_type": "code",
      "source": [
        "import torch\n",
        "import numpy as np\n",
        "\n",
        "\n",
        "# New movie details\n",
        "new_movie = {\n",
        "    'plot': \"Two middle-aged men who are struggling to adjust to the digital age manage to land internships at Google, where they have to compete against younger, more tech-savvy candidates.\",\n",
        "    'keywords': \"internship, Google, comedy, technology, competition\",\n",
        "    'producers': \"Vince Vaughn, Shawn Levy\",\n",
        "    'directors': \"Shawn Levy\",\n",
        "    'casting directors': \"Sarah Halley Finn\",\n",
        "    'taglines': \"In the digital age, being human is the ultimate hack.\",\n",
        "    'genres': \"Comedy\",\n",
        "    'year': 2013\n",
        "}\n",
        "\n",
        "# Process the new movie features using Word2Vec and other preprocessors\n",
        "X_new_movie_vecs = np.hstack([\n",
        "    get_average_word2vec(new_movie['plot'], word2vec_model),\n",
        "    get_average_word2vec(new_movie['keywords'], word2vec_model),\n",
        "    get_average_word2vec(new_movie['producers'], word2vec_model),\n",
        "    get_average_word2vec(new_movie['directors'], word2vec_model),\n",
        "    get_average_word2vec(new_movie['casting directors'], word2vec_model),\n",
        "    get_average_word2vec(new_movie['taglines'], word2vec_model)\n",
        "])\n",
        "\n",
        "# Process categorical features (genres)\n",
        "X_new_movie_genres = mlb.transform([new_movie['genres'].split(',')])\n",
        "\n",
        "# Flatten the binary matrix returned by MultiLabelBinarizer\n",
        "X_new_movie_genres = X_new_movie_genres.flatten()\n",
        "\n",
        "# Process numerical features (year)\n",
        "X_new_movie_year = scaler.transform([[new_movie['year']]])\n",
        "\n",
        "# Combine all features into one feature vector\n",
        "X_new_movie_combined = np.hstack([X_new_movie_vecs, X_new_movie_genres, X_new_movie_year.flatten()])\n",
        "\n",
        "# Convert to PyTorch tensor and add batch dimension\n",
        "X_new_movie_tensor = torch.tensor(X_new_movie_combined, dtype=torch.float32).unsqueeze(0)\n",
        "\n",
        "# Make predictions using the trained model\n",
        "model.eval()  # Set the model to evaluation mode\n",
        "with torch.no_grad():  # No need to compute gradients for inference\n",
        "    rating_pred = model(X_new_movie_tensor)  # Only predicting IMDb rating now\n",
        "\n",
        "# Display the prediction for IMDb rating\n",
        "print(f\"Predicted IMDb Rating: {rating_pred.item():.2f}\")  # Rating should be between 1 and 10"
      ],
      "metadata": {
        "colab": {
          "base_uri": "https://localhost:8080/"
        },
        "id": "RmQW31IU0xAB",
        "outputId": "f476447d-550b-4549-dac6-e1d6f6eb2416"
      },
      "execution_count": 47,
      "outputs": [
        {
          "output_type": "stream",
          "name": "stdout",
          "text": [
            "Predicted IMDb Rating: 6.17\n"
          ]
        },
        {
          "output_type": "stream",
          "name": "stderr",
          "text": [
            "/usr/local/lib/python3.10/dist-packages/sklearn/base.py:493: UserWarning: X does not have valid feature names, but StandardScaler was fitted with feature names\n",
            "  warnings.warn(\n"
          ]
        }
      ]
    }
  ]
}